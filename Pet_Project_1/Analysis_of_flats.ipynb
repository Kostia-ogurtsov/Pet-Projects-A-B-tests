{
  "cells": [
    {
      "cell_type": "markdown",
      "metadata": {
        "id": "r2pL2C8r9btV"
      },
      "source": [
        "# Исследование рынка квартир"
      ]
    },
    {
      "cell_type": "markdown",
      "metadata": {
        "id": "AZIukZbq9btX"
      },
      "source": [
        "В этом проекте вам предстоит провести полный цикл EDA затем проверить гипотезы с помощью статистических методов, изученных ранне на лекции.\n",
        "\n",
        "Под каждым графиком вы должны отразить свои мысли и выводы, полученные на посредством визуального анализа. Каждый блок желательно описывать\n",
        "с какой целью проведено это действие (хотя бы кратко).\n",
        "\n",
        "Ожидаемые запросы по оформлению работы:\n",
        "\n",
        "1. График (то же касается про выделение новых метрик, добавление новых колонок, удаление ненужных, формулирование гипотез, выбор стат. критерия) должен быть обоснован и должны быть выписаны выводы\n",
        "\n",
        "2. Смысловые блоки анализа должны быть разделены отдельными блоками (то есть должны быть заголовочные блоки markdown, чтобы работа не сливалась в единое целое, например если вы в какой-то момент переключились на анализ других зависимостей, то вы должны это отделить отдельнгым блоком). В общем работа должна быть оформлена хорошо и читаемо.\n",
        "\n",
        "3. Не должно быть слишком мало блоков кода и слишком много (каждый блок кода должен нести в себе одну цель, то есть решать подзадачу смыслового блока анализа (см п.2)) в идеале каждый блок не более 15 строчек кода (к реализации классов и нагруженных функций или графиков слова про количество строчек кода не относится)\n",
        "\n",
        "4. Использование ИИ:\n",
        "Примеры допустимого использования ИИ\n",
        "(Во всех случаях, кроме ситуаций, когда это является основной целью задачи)\n",
        "Сделай понятные имена переменных в коде по такому-то принципу.\n",
        "Напиши докстринги к функции.\n",
        "Раздели функцию на несколько частей по логическому принципу.\n",
        "Оформи код в функцию с такими-то аргументами.\n",
        "Оптимизируй код (например, убери лишние вычисления, используй векторизацию вместо циклов).\n",
        "Предложи шаблон класса для такой-то цели (если это не связано с целю задачи).\n",
        "Подскажи, как ускорить выполнение кода на больших данных.\n",
        "Напиши код построения графика с такими-то линиями и фигурами.\n",
        "Напиши код считывания данных из Excel (с указанного листа, колонок) и преобразуй типы данных.\n",
        "Объясни, почему падает код.\n",
        "Оформи красиво текст в Markdown.\n",
        "Переформулируй абзац более простым языком, сохранив исходный смысл.\n",
        "Подскажи, как с помощью numpy выполнить такую-то операцию.\n",
        "Подскажи, какие параметры можно варьировать в такой-то функции, чтобы получить нужный результат.\n",
        "Оформи мое решение в LaTeX.\n",
        "Оформи LaTeX-формулы красиво.\n",
        "Посчитай производную функции (для проверки, возможны ошибки).\n",
        "Упрости математическую дробь (для проверки, возможны ошибки)\n",
        "\n",
        "Примеры недопустимого использования ИИ\n",
        "Реши за меня домашку.\n",
        "Напиши реализацию ttest или любой другого критерия (особенно если цель задания --- написать ее самостоятельно).\n",
        "Напиши код построения графика (если цель задачи --- научиться строить графики).\n",
        "Реализуй тестирование\n",
        "Предложи шаблон класса для такой-то цели (если это связано с целю задачи).\n",
        "Подбери гиперпараметры модели вместо меня.\n",
        "Сделай вывод по результатам.\n",
        "Напиши полный отчет по результатам эксперимента.\n",
        "Напиши интерпретацию коэффициентов модели.\n",
        "Придумай и сформулируй гипотезы по данным.\n",
        "Определи, какие признаки важны для модели.\n",
        "Посчитай производную функции (если не с целью проверки).\n",
        "Упрости математическую дробь (если не с целью проверки).\n",
        "\n",
        "\n",
        "**Справка про EDA**\n",
        "\n",
        "В любой задаче, связанной с анализом данных, первым шагом всегда становится знакомство с самим датасетом. Прежде чем строить модели или делать выводы, важно оценить структуру, полноту и качество информации. Такой осмысленный подход к предварительному изучению данных получил название Exploratory Data Analysis (EDA), он позволяет выявить проблемы, обнаружить закономерности и определить направления для дальнейшей работы.\n",
        "\n",
        "Цели EDA\n",
        "\n",
        "EDA (Exploratory Data Analysis — разведочный анализ данных) помогает понять, с какими данными мы имеем дело, насколько они пригодны для анализа и в каком направлении двигаться дальше. В рамках этого анализа мы ставим следующие цели:\n",
        "\n",
        "1. Проверить качество и надёжность данных\n",
        "\n",
        "Обнаружить пропущенные, дубликатные или странные значения.\n",
        "Найти несоответствия в формате (например, 'male' и 'Male' в колонке пола).\n",
        "Определить, какие признаки не несут полезной информации или имеют подозрительное распределение.\n",
        "\n",
        "2. Оценить распределение признаков и пригодность данных к анализу\n",
        "\n",
        "Проверить, насколько сбалансированы классы или категории.\n",
        "\n",
        "Найти колонки с одним уникальным значением или нерепрезентативным содержанием.\n",
        "\n",
        "Убедиться, что данные позволяют ответить на поставленные вопросы.\n",
        "\n",
        "Пример: если нужно сравнить интеллект котов и собак, а котов всего 3, — такой анализ не имеет смысла.\n",
        "Пример: если нужно проверить, реже ли имеют детей образованные люди, а в выборке перекос по возрасту и доходу — нужно учитывать это в дальнейшем анализе или запросить другие данные.\n",
        "Пример из жизни: сейчас в Великобритании женщины 18-24 лет зарабатывают больше мужчин того же возраста на 10%. Если бы нам дали датасет, в котором мужчины и женщины имеют разное возрастное распределение, то анализ был бы не совсем честным.\n",
        "\n",
        "3. Сформулировать гипотезы, связанные с целевой переменной\n",
        "\n",
        "Предположить, какие признаки могут влиять на целевую переменную.\n",
        "Подготовиться к следующему этапу — построению модели или проверке статистических зависимостей.\n",
        "Пример гипотезы: «Образованные люди реже имеют детей», «Стаж влияет на уровень зарплаты», и т.п."
      ]
    },
    {
      "cell_type": "markdown",
      "metadata": {
        "id": "LuZIQavc9btZ"
      },
      "source": [
        "## Первичный анализ датасета (Просто взгляд на то как считались данные и т п)"
      ]
    },
    {
      "cell_type": "code",
      "execution_count": 1,
      "metadata": {
        "colab": {
          "base_uri": "https://localhost:8080/"
        },
        "id": "uXnJWGOA9bta",
        "outputId": "4d495aca-9c00-47e1-98d7-84c84fd74971"
      },
      "outputs": [
        {
          "output_type": "stream",
          "name": "stdout",
          "text": [
            "Mounted at /content/drive\n"
          ]
        }
      ],
      "source": [
        "import pandas as pd\n",
        "import numpy as np\n",
        "import seaborn as sns\n",
        "import matplotlib.pyplot as plt\n",
        "import scipy.stats as st\n",
        "import warnings\n",
        "warnings.filterwarnings(\"ignore\")\n",
        "\n",
        "from google.colab import drive\n",
        "drive.mount('/content/drive')\n",
        "\n",
        "\n",
        "pd.set_option('display.max_columns', 25)"
      ]
    },
    {
      "cell_type": "code",
      "source": [
        "df = pd.read_csv('/content/drive/MyDrive/Colab Notebooks/data_realty.csv', encoding='UTF-8', sep='\\t')\n",
        "df.sample(10)"
      ],
      "metadata": {
        "colab": {
          "base_uri": "https://localhost:8080/",
          "height": 539
        },
        "id": "73T3I8pS-5rZ",
        "outputId": "25c9839c-6d65-45b1-883c-f4899433ad08"
      },
      "execution_count": 2,
      "outputs": [
        {
          "output_type": "execute_result",
          "data": {
            "text/plain": [
              "       total_images  last_price  total_area first_day_exposition  rooms  \\\n",
              "17655             4   3400000.0        33.0  2018-03-29T00:00:00      1   \n",
              "9865             10   7150000.0        75.0  2015-11-10T00:00:00      3   \n",
              "3613             10   3800000.0        44.0  2018-04-05T00:00:00      2   \n",
              "17841            18   7100000.0        58.6  2018-12-03T00:00:00      2   \n",
              "18414             6   3300000.0        32.0  2016-06-28T00:00:00      1   \n",
              "4147             16   5490000.0        83.4  2018-08-23T00:00:00      3   \n",
              "1733              8   8300000.0        70.0  2016-01-29T00:00:00      2   \n",
              "4720             18   4250000.0        36.0  2017-11-22T00:00:00      1   \n",
              "4602              0   3570000.0        32.0  2018-02-07T00:00:00      1   \n",
              "16282             4   4350000.0        41.0  2018-08-25T00:00:00      1   \n",
              "\n",
              "       ceiling_height  floors_total  living_area  floor is_apartment  studio  \\\n",
              "17655             NaN          25.0         15.7     24          NaN   False   \n",
              "9865              NaN          17.0         46.0      3        False   False   \n",
              "3613             2.50           5.0         28.0      4          NaN   False   \n",
              "17841            2.70          25.0         32.1      4          NaN   False   \n",
              "18414            2.70          27.0         14.8     21          NaN   False   \n",
              "4147             2.75           7.0         45.6      7          NaN   False   \n",
              "1733             3.20           8.0         42.0      7        False   False   \n",
              "4720              NaN          19.0         16.0     12          NaN   False   \n",
              "4602             2.50          15.0         17.5      8          NaN   False   \n",
              "16282            2.77          11.0         16.5      7          NaN   False   \n",
              "\n",
              "       open_plan  kitchen_area  balcony    locality_name  airports_nearest  \\\n",
              "17655      False          10.2      2.0   посёлок Мурино               NaN   \n",
              "9865       False          11.0      0.0  Санкт-Петербург           47893.0   \n",
              "3613       False           6.0      NaN           Пушкин           14279.0   \n",
              "17841      False          10.4      1.0  Санкт-Петербург           32822.0   \n",
              "18414      False           9.0      2.0   посёлок Мурино               NaN   \n",
              "4147       False          12.5      NaN  Санкт-Петербург           40096.0   \n",
              "1733       False          12.0      2.0  Санкт-Петербург           18140.0   \n",
              "4720       False          10.2      2.0  Санкт-Петербург           28959.0   \n",
              "4602       False           6.3      2.0  Санкт-Петербург           50882.0   \n",
              "16282      False          10.5      1.0  Санкт-Петербург           35662.0   \n",
              "\n",
              "       cityCenters_nearest  parks_around3000  parks_nearest  ponds_around3000  \\\n",
              "17655                  NaN               NaN            NaN               NaN   \n",
              "9865               16018.0               0.0            NaN               0.0   \n",
              "3613               26433.0               0.0            NaN               0.0   \n",
              "17841              11968.0               0.0            NaN               0.0   \n",
              "18414                  NaN               NaN            NaN               NaN   \n",
              "4147               19150.0               0.0            NaN               2.0   \n",
              "1733               17143.0               1.0         1514.0               2.0   \n",
              "4720               10890.0               1.0          212.0               0.0   \n",
              "4602               16210.0               0.0            NaN               0.0   \n",
              "16282              16699.0               0.0            NaN               1.0   \n",
              "\n",
              "       ponds_nearest  days_exposition  \n",
              "17655            NaN             45.0  \n",
              "9865             NaN            381.0  \n",
              "3613             NaN            280.0  \n",
              "17841            NaN            138.0  \n",
              "18414            NaN           1008.0  \n",
              "4147           225.0             61.0  \n",
              "1733            16.0            200.0  \n",
              "4720             NaN             27.0  \n",
              "4602             NaN             34.0  \n",
              "16282           78.0             81.0  "
            ],
            "text/html": [
              "\n",
              "  <div id=\"df-49e05fea-a1e3-4d8a-9920-d9449ce3ac4c\" class=\"colab-df-container\">\n",
              "    <div>\n",
              "<style scoped>\n",
              "    .dataframe tbody tr th:only-of-type {\n",
              "        vertical-align: middle;\n",
              "    }\n",
              "\n",
              "    .dataframe tbody tr th {\n",
              "        vertical-align: top;\n",
              "    }\n",
              "\n",
              "    .dataframe thead th {\n",
              "        text-align: right;\n",
              "    }\n",
              "</style>\n",
              "<table border=\"1\" class=\"dataframe\">\n",
              "  <thead>\n",
              "    <tr style=\"text-align: right;\">\n",
              "      <th></th>\n",
              "      <th>total_images</th>\n",
              "      <th>last_price</th>\n",
              "      <th>total_area</th>\n",
              "      <th>first_day_exposition</th>\n",
              "      <th>rooms</th>\n",
              "      <th>ceiling_height</th>\n",
              "      <th>floors_total</th>\n",
              "      <th>living_area</th>\n",
              "      <th>floor</th>\n",
              "      <th>is_apartment</th>\n",
              "      <th>studio</th>\n",
              "      <th>open_plan</th>\n",
              "      <th>kitchen_area</th>\n",
              "      <th>balcony</th>\n",
              "      <th>locality_name</th>\n",
              "      <th>airports_nearest</th>\n",
              "      <th>cityCenters_nearest</th>\n",
              "      <th>parks_around3000</th>\n",
              "      <th>parks_nearest</th>\n",
              "      <th>ponds_around3000</th>\n",
              "      <th>ponds_nearest</th>\n",
              "      <th>days_exposition</th>\n",
              "    </tr>\n",
              "  </thead>\n",
              "  <tbody>\n",
              "    <tr>\n",
              "      <th>17655</th>\n",
              "      <td>4</td>\n",
              "      <td>3400000.0</td>\n",
              "      <td>33.0</td>\n",
              "      <td>2018-03-29T00:00:00</td>\n",
              "      <td>1</td>\n",
              "      <td>NaN</td>\n",
              "      <td>25.0</td>\n",
              "      <td>15.7</td>\n",
              "      <td>24</td>\n",
              "      <td>NaN</td>\n",
              "      <td>False</td>\n",
              "      <td>False</td>\n",
              "      <td>10.2</td>\n",
              "      <td>2.0</td>\n",
              "      <td>посёлок Мурино</td>\n",
              "      <td>NaN</td>\n",
              "      <td>NaN</td>\n",
              "      <td>NaN</td>\n",
              "      <td>NaN</td>\n",
              "      <td>NaN</td>\n",
              "      <td>NaN</td>\n",
              "      <td>45.0</td>\n",
              "    </tr>\n",
              "    <tr>\n",
              "      <th>9865</th>\n",
              "      <td>10</td>\n",
              "      <td>7150000.0</td>\n",
              "      <td>75.0</td>\n",
              "      <td>2015-11-10T00:00:00</td>\n",
              "      <td>3</td>\n",
              "      <td>NaN</td>\n",
              "      <td>17.0</td>\n",
              "      <td>46.0</td>\n",
              "      <td>3</td>\n",
              "      <td>False</td>\n",
              "      <td>False</td>\n",
              "      <td>False</td>\n",
              "      <td>11.0</td>\n",
              "      <td>0.0</td>\n",
              "      <td>Санкт-Петербург</td>\n",
              "      <td>47893.0</td>\n",
              "      <td>16018.0</td>\n",
              "      <td>0.0</td>\n",
              "      <td>NaN</td>\n",
              "      <td>0.0</td>\n",
              "      <td>NaN</td>\n",
              "      <td>381.0</td>\n",
              "    </tr>\n",
              "    <tr>\n",
              "      <th>3613</th>\n",
              "      <td>10</td>\n",
              "      <td>3800000.0</td>\n",
              "      <td>44.0</td>\n",
              "      <td>2018-04-05T00:00:00</td>\n",
              "      <td>2</td>\n",
              "      <td>2.50</td>\n",
              "      <td>5.0</td>\n",
              "      <td>28.0</td>\n",
              "      <td>4</td>\n",
              "      <td>NaN</td>\n",
              "      <td>False</td>\n",
              "      <td>False</td>\n",
              "      <td>6.0</td>\n",
              "      <td>NaN</td>\n",
              "      <td>Пушкин</td>\n",
              "      <td>14279.0</td>\n",
              "      <td>26433.0</td>\n",
              "      <td>0.0</td>\n",
              "      <td>NaN</td>\n",
              "      <td>0.0</td>\n",
              "      <td>NaN</td>\n",
              "      <td>280.0</td>\n",
              "    </tr>\n",
              "    <tr>\n",
              "      <th>17841</th>\n",
              "      <td>18</td>\n",
              "      <td>7100000.0</td>\n",
              "      <td>58.6</td>\n",
              "      <td>2018-12-03T00:00:00</td>\n",
              "      <td>2</td>\n",
              "      <td>2.70</td>\n",
              "      <td>25.0</td>\n",
              "      <td>32.1</td>\n",
              "      <td>4</td>\n",
              "      <td>NaN</td>\n",
              "      <td>False</td>\n",
              "      <td>False</td>\n",
              "      <td>10.4</td>\n",
              "      <td>1.0</td>\n",
              "      <td>Санкт-Петербург</td>\n",
              "      <td>32822.0</td>\n",
              "      <td>11968.0</td>\n",
              "      <td>0.0</td>\n",
              "      <td>NaN</td>\n",
              "      <td>0.0</td>\n",
              "      <td>NaN</td>\n",
              "      <td>138.0</td>\n",
              "    </tr>\n",
              "    <tr>\n",
              "      <th>18414</th>\n",
              "      <td>6</td>\n",
              "      <td>3300000.0</td>\n",
              "      <td>32.0</td>\n",
              "      <td>2016-06-28T00:00:00</td>\n",
              "      <td>1</td>\n",
              "      <td>2.70</td>\n",
              "      <td>27.0</td>\n",
              "      <td>14.8</td>\n",
              "      <td>21</td>\n",
              "      <td>NaN</td>\n",
              "      <td>False</td>\n",
              "      <td>False</td>\n",
              "      <td>9.0</td>\n",
              "      <td>2.0</td>\n",
              "      <td>посёлок Мурино</td>\n",
              "      <td>NaN</td>\n",
              "      <td>NaN</td>\n",
              "      <td>NaN</td>\n",
              "      <td>NaN</td>\n",
              "      <td>NaN</td>\n",
              "      <td>NaN</td>\n",
              "      <td>1008.0</td>\n",
              "    </tr>\n",
              "    <tr>\n",
              "      <th>4147</th>\n",
              "      <td>16</td>\n",
              "      <td>5490000.0</td>\n",
              "      <td>83.4</td>\n",
              "      <td>2018-08-23T00:00:00</td>\n",
              "      <td>3</td>\n",
              "      <td>2.75</td>\n",
              "      <td>7.0</td>\n",
              "      <td>45.6</td>\n",
              "      <td>7</td>\n",
              "      <td>NaN</td>\n",
              "      <td>False</td>\n",
              "      <td>False</td>\n",
              "      <td>12.5</td>\n",
              "      <td>NaN</td>\n",
              "      <td>Санкт-Петербург</td>\n",
              "      <td>40096.0</td>\n",
              "      <td>19150.0</td>\n",
              "      <td>0.0</td>\n",
              "      <td>NaN</td>\n",
              "      <td>2.0</td>\n",
              "      <td>225.0</td>\n",
              "      <td>61.0</td>\n",
              "    </tr>\n",
              "    <tr>\n",
              "      <th>1733</th>\n",
              "      <td>8</td>\n",
              "      <td>8300000.0</td>\n",
              "      <td>70.0</td>\n",
              "      <td>2016-01-29T00:00:00</td>\n",
              "      <td>2</td>\n",
              "      <td>3.20</td>\n",
              "      <td>8.0</td>\n",
              "      <td>42.0</td>\n",
              "      <td>7</td>\n",
              "      <td>False</td>\n",
              "      <td>False</td>\n",
              "      <td>False</td>\n",
              "      <td>12.0</td>\n",
              "      <td>2.0</td>\n",
              "      <td>Санкт-Петербург</td>\n",
              "      <td>18140.0</td>\n",
              "      <td>17143.0</td>\n",
              "      <td>1.0</td>\n",
              "      <td>1514.0</td>\n",
              "      <td>2.0</td>\n",
              "      <td>16.0</td>\n",
              "      <td>200.0</td>\n",
              "    </tr>\n",
              "    <tr>\n",
              "      <th>4720</th>\n",
              "      <td>18</td>\n",
              "      <td>4250000.0</td>\n",
              "      <td>36.0</td>\n",
              "      <td>2017-11-22T00:00:00</td>\n",
              "      <td>1</td>\n",
              "      <td>NaN</td>\n",
              "      <td>19.0</td>\n",
              "      <td>16.0</td>\n",
              "      <td>12</td>\n",
              "      <td>NaN</td>\n",
              "      <td>False</td>\n",
              "      <td>False</td>\n",
              "      <td>10.2</td>\n",
              "      <td>2.0</td>\n",
              "      <td>Санкт-Петербург</td>\n",
              "      <td>28959.0</td>\n",
              "      <td>10890.0</td>\n",
              "      <td>1.0</td>\n",
              "      <td>212.0</td>\n",
              "      <td>0.0</td>\n",
              "      <td>NaN</td>\n",
              "      <td>27.0</td>\n",
              "    </tr>\n",
              "    <tr>\n",
              "      <th>4602</th>\n",
              "      <td>0</td>\n",
              "      <td>3570000.0</td>\n",
              "      <td>32.0</td>\n",
              "      <td>2018-02-07T00:00:00</td>\n",
              "      <td>1</td>\n",
              "      <td>2.50</td>\n",
              "      <td>15.0</td>\n",
              "      <td>17.5</td>\n",
              "      <td>8</td>\n",
              "      <td>NaN</td>\n",
              "      <td>False</td>\n",
              "      <td>False</td>\n",
              "      <td>6.3</td>\n",
              "      <td>2.0</td>\n",
              "      <td>Санкт-Петербург</td>\n",
              "      <td>50882.0</td>\n",
              "      <td>16210.0</td>\n",
              "      <td>0.0</td>\n",
              "      <td>NaN</td>\n",
              "      <td>0.0</td>\n",
              "      <td>NaN</td>\n",
              "      <td>34.0</td>\n",
              "    </tr>\n",
              "    <tr>\n",
              "      <th>16282</th>\n",
              "      <td>4</td>\n",
              "      <td>4350000.0</td>\n",
              "      <td>41.0</td>\n",
              "      <td>2018-08-25T00:00:00</td>\n",
              "      <td>1</td>\n",
              "      <td>2.77</td>\n",
              "      <td>11.0</td>\n",
              "      <td>16.5</td>\n",
              "      <td>7</td>\n",
              "      <td>NaN</td>\n",
              "      <td>False</td>\n",
              "      <td>False</td>\n",
              "      <td>10.5</td>\n",
              "      <td>1.0</td>\n",
              "      <td>Санкт-Петербург</td>\n",
              "      <td>35662.0</td>\n",
              "      <td>16699.0</td>\n",
              "      <td>0.0</td>\n",
              "      <td>NaN</td>\n",
              "      <td>1.0</td>\n",
              "      <td>78.0</td>\n",
              "      <td>81.0</td>\n",
              "    </tr>\n",
              "  </tbody>\n",
              "</table>\n",
              "</div>\n",
              "    <div class=\"colab-df-buttons\">\n",
              "\n",
              "  <div class=\"colab-df-container\">\n",
              "    <button class=\"colab-df-convert\" onclick=\"convertToInteractive('df-49e05fea-a1e3-4d8a-9920-d9449ce3ac4c')\"\n",
              "            title=\"Convert this dataframe to an interactive table.\"\n",
              "            style=\"display:none;\">\n",
              "\n",
              "  <svg xmlns=\"http://www.w3.org/2000/svg\" height=\"24px\" viewBox=\"0 -960 960 960\">\n",
              "    <path d=\"M120-120v-720h720v720H120Zm60-500h600v-160H180v160Zm220 220h160v-160H400v160Zm0 220h160v-160H400v160ZM180-400h160v-160H180v160Zm440 0h160v-160H620v160ZM180-180h160v-160H180v160Zm440 0h160v-160H620v160Z\"/>\n",
              "  </svg>\n",
              "    </button>\n",
              "\n",
              "  <style>\n",
              "    .colab-df-container {\n",
              "      display:flex;\n",
              "      gap: 12px;\n",
              "    }\n",
              "\n",
              "    .colab-df-convert {\n",
              "      background-color: #E8F0FE;\n",
              "      border: none;\n",
              "      border-radius: 50%;\n",
              "      cursor: pointer;\n",
              "      display: none;\n",
              "      fill: #1967D2;\n",
              "      height: 32px;\n",
              "      padding: 0 0 0 0;\n",
              "      width: 32px;\n",
              "    }\n",
              "\n",
              "    .colab-df-convert:hover {\n",
              "      background-color: #E2EBFA;\n",
              "      box-shadow: 0px 1px 2px rgba(60, 64, 67, 0.3), 0px 1px 3px 1px rgba(60, 64, 67, 0.15);\n",
              "      fill: #174EA6;\n",
              "    }\n",
              "\n",
              "    .colab-df-buttons div {\n",
              "      margin-bottom: 4px;\n",
              "    }\n",
              "\n",
              "    [theme=dark] .colab-df-convert {\n",
              "      background-color: #3B4455;\n",
              "      fill: #D2E3FC;\n",
              "    }\n",
              "\n",
              "    [theme=dark] .colab-df-convert:hover {\n",
              "      background-color: #434B5C;\n",
              "      box-shadow: 0px 1px 3px 1px rgba(0, 0, 0, 0.15);\n",
              "      filter: drop-shadow(0px 1px 2px rgba(0, 0, 0, 0.3));\n",
              "      fill: #FFFFFF;\n",
              "    }\n",
              "  </style>\n",
              "\n",
              "    <script>\n",
              "      const buttonEl =\n",
              "        document.querySelector('#df-49e05fea-a1e3-4d8a-9920-d9449ce3ac4c button.colab-df-convert');\n",
              "      buttonEl.style.display =\n",
              "        google.colab.kernel.accessAllowed ? 'block' : 'none';\n",
              "\n",
              "      async function convertToInteractive(key) {\n",
              "        const element = document.querySelector('#df-49e05fea-a1e3-4d8a-9920-d9449ce3ac4c');\n",
              "        const dataTable =\n",
              "          await google.colab.kernel.invokeFunction('convertToInteractive',\n",
              "                                                    [key], {});\n",
              "        if (!dataTable) return;\n",
              "\n",
              "        const docLinkHtml = 'Like what you see? Visit the ' +\n",
              "          '<a target=\"_blank\" href=https://colab.research.google.com/notebooks/data_table.ipynb>data table notebook</a>'\n",
              "          + ' to learn more about interactive tables.';\n",
              "        element.innerHTML = '';\n",
              "        dataTable['output_type'] = 'display_data';\n",
              "        await google.colab.output.renderOutput(dataTable, element);\n",
              "        const docLink = document.createElement('div');\n",
              "        docLink.innerHTML = docLinkHtml;\n",
              "        element.appendChild(docLink);\n",
              "      }\n",
              "    </script>\n",
              "  </div>\n",
              "\n",
              "\n",
              "    <div id=\"df-4daf10ee-fef2-4695-9c8b-e36588b0aac3\">\n",
              "      <button class=\"colab-df-quickchart\" onclick=\"quickchart('df-4daf10ee-fef2-4695-9c8b-e36588b0aac3')\"\n",
              "                title=\"Suggest charts\"\n",
              "                style=\"display:none;\">\n",
              "\n",
              "<svg xmlns=\"http://www.w3.org/2000/svg\" height=\"24px\"viewBox=\"0 0 24 24\"\n",
              "     width=\"24px\">\n",
              "    <g>\n",
              "        <path d=\"M19 3H5c-1.1 0-2 .9-2 2v14c0 1.1.9 2 2 2h14c1.1 0 2-.9 2-2V5c0-1.1-.9-2-2-2zM9 17H7v-7h2v7zm4 0h-2V7h2v10zm4 0h-2v-4h2v4z\"/>\n",
              "    </g>\n",
              "</svg>\n",
              "      </button>\n",
              "\n",
              "<style>\n",
              "  .colab-df-quickchart {\n",
              "      --bg-color: #E8F0FE;\n",
              "      --fill-color: #1967D2;\n",
              "      --hover-bg-color: #E2EBFA;\n",
              "      --hover-fill-color: #174EA6;\n",
              "      --disabled-fill-color: #AAA;\n",
              "      --disabled-bg-color: #DDD;\n",
              "  }\n",
              "\n",
              "  [theme=dark] .colab-df-quickchart {\n",
              "      --bg-color: #3B4455;\n",
              "      --fill-color: #D2E3FC;\n",
              "      --hover-bg-color: #434B5C;\n",
              "      --hover-fill-color: #FFFFFF;\n",
              "      --disabled-bg-color: #3B4455;\n",
              "      --disabled-fill-color: #666;\n",
              "  }\n",
              "\n",
              "  .colab-df-quickchart {\n",
              "    background-color: var(--bg-color);\n",
              "    border: none;\n",
              "    border-radius: 50%;\n",
              "    cursor: pointer;\n",
              "    display: none;\n",
              "    fill: var(--fill-color);\n",
              "    height: 32px;\n",
              "    padding: 0;\n",
              "    width: 32px;\n",
              "  }\n",
              "\n",
              "  .colab-df-quickchart:hover {\n",
              "    background-color: var(--hover-bg-color);\n",
              "    box-shadow: 0 1px 2px rgba(60, 64, 67, 0.3), 0 1px 3px 1px rgba(60, 64, 67, 0.15);\n",
              "    fill: var(--button-hover-fill-color);\n",
              "  }\n",
              "\n",
              "  .colab-df-quickchart-complete:disabled,\n",
              "  .colab-df-quickchart-complete:disabled:hover {\n",
              "    background-color: var(--disabled-bg-color);\n",
              "    fill: var(--disabled-fill-color);\n",
              "    box-shadow: none;\n",
              "  }\n",
              "\n",
              "  .colab-df-spinner {\n",
              "    border: 2px solid var(--fill-color);\n",
              "    border-color: transparent;\n",
              "    border-bottom-color: var(--fill-color);\n",
              "    animation:\n",
              "      spin 1s steps(1) infinite;\n",
              "  }\n",
              "\n",
              "  @keyframes spin {\n",
              "    0% {\n",
              "      border-color: transparent;\n",
              "      border-bottom-color: var(--fill-color);\n",
              "      border-left-color: var(--fill-color);\n",
              "    }\n",
              "    20% {\n",
              "      border-color: transparent;\n",
              "      border-left-color: var(--fill-color);\n",
              "      border-top-color: var(--fill-color);\n",
              "    }\n",
              "    30% {\n",
              "      border-color: transparent;\n",
              "      border-left-color: var(--fill-color);\n",
              "      border-top-color: var(--fill-color);\n",
              "      border-right-color: var(--fill-color);\n",
              "    }\n",
              "    40% {\n",
              "      border-color: transparent;\n",
              "      border-right-color: var(--fill-color);\n",
              "      border-top-color: var(--fill-color);\n",
              "    }\n",
              "    60% {\n",
              "      border-color: transparent;\n",
              "      border-right-color: var(--fill-color);\n",
              "    }\n",
              "    80% {\n",
              "      border-color: transparent;\n",
              "      border-right-color: var(--fill-color);\n",
              "      border-bottom-color: var(--fill-color);\n",
              "    }\n",
              "    90% {\n",
              "      border-color: transparent;\n",
              "      border-bottom-color: var(--fill-color);\n",
              "    }\n",
              "  }\n",
              "</style>\n",
              "\n",
              "      <script>\n",
              "        async function quickchart(key) {\n",
              "          const quickchartButtonEl =\n",
              "            document.querySelector('#' + key + ' button');\n",
              "          quickchartButtonEl.disabled = true;  // To prevent multiple clicks.\n",
              "          quickchartButtonEl.classList.add('colab-df-spinner');\n",
              "          try {\n",
              "            const charts = await google.colab.kernel.invokeFunction(\n",
              "                'suggestCharts', [key], {});\n",
              "          } catch (error) {\n",
              "            console.error('Error during call to suggestCharts:', error);\n",
              "          }\n",
              "          quickchartButtonEl.classList.remove('colab-df-spinner');\n",
              "          quickchartButtonEl.classList.add('colab-df-quickchart-complete');\n",
              "        }\n",
              "        (() => {\n",
              "          let quickchartButtonEl =\n",
              "            document.querySelector('#df-4daf10ee-fef2-4695-9c8b-e36588b0aac3 button');\n",
              "          quickchartButtonEl.style.display =\n",
              "            google.colab.kernel.accessAllowed ? 'block' : 'none';\n",
              "        })();\n",
              "      </script>\n",
              "    </div>\n",
              "    </div>\n",
              "  </div>\n"
            ],
            "application/vnd.google.colaboratory.intrinsic+json": {
              "type": "dataframe"
            }
          },
          "metadata": {},
          "execution_count": 2
        }
      ]
    },
    {
      "cell_type": "markdown",
      "metadata": {
        "id": "oesTHLul9btb"
      },
      "source": [
        "- airports_nearest — расстояние до ближайшего аэропорта в метрах (м)\n",
        "- balcony — число балконов\n",
        "- ceiling_height — высота потолков (м)\n",
        "- cityCenters_nearest — расстояние до центра города (м)\n",
        "- days_exposition — сколько дней было размещено объявление (от публикации до снятия)\n",
        "- first_day_exposition — дата публикации\n",
        "- floor — этаж\n",
        "- floors_total — всего этажей в доме\n",
        "- is_apartment — апартаменты (булев тип)\n",
        "- kitchen_area — площадь кухни в квадратных метрах (м²)\n",
        "- last_price — цена на момент снятия с публикации\n",
        "- living_area — жилая площадь в квадратных метрах(м²)\n",
        "- locality_name — название населённого пункта\n",
        "- open_plan — свободная планировка (булев тип)\n",
        "- parks_around3000 — число парков в радиусе 3 км\n",
        "- parks_nearest — расстояние до ближайшего парка (м)\n",
        "- ponds_around3000 — число водоёмов в радиусе 3 км\n",
        "- ponds_nearest — расстояние до ближайшего водоёма (м)\n",
        "- rooms — число комнат\n",
        "- studio — квартира-студия (булев тип)\n",
        "- total_area — площадь квартиры в квадратных метрах (м²)\n",
        "- total_images — число фотографий квартиры в объявлении\n"
      ]
    },
    {
      "cell_type": "code",
      "source": [
        "df.info()"
      ],
      "metadata": {
        "colab": {
          "base_uri": "https://localhost:8080/"
        },
        "id": "08SMol7Q8tKT",
        "outputId": "f942e174-b769-404c-c8ec-d2c4c5308415"
      },
      "execution_count": 3,
      "outputs": [
        {
          "output_type": "stream",
          "name": "stdout",
          "text": [
            "<class 'pandas.core.frame.DataFrame'>\n",
            "RangeIndex: 23699 entries, 0 to 23698\n",
            "Data columns (total 22 columns):\n",
            " #   Column                Non-Null Count  Dtype  \n",
            "---  ------                --------------  -----  \n",
            " 0   total_images          23699 non-null  int64  \n",
            " 1   last_price            23699 non-null  float64\n",
            " 2   total_area            23699 non-null  float64\n",
            " 3   first_day_exposition  23699 non-null  object \n",
            " 4   rooms                 23699 non-null  int64  \n",
            " 5   ceiling_height        14504 non-null  float64\n",
            " 6   floors_total          23613 non-null  float64\n",
            " 7   living_area           21796 non-null  float64\n",
            " 8   floor                 23699 non-null  int64  \n",
            " 9   is_apartment          2775 non-null   object \n",
            " 10  studio                23699 non-null  bool   \n",
            " 11  open_plan             23699 non-null  bool   \n",
            " 12  kitchen_area          21421 non-null  float64\n",
            " 13  balcony               12180 non-null  float64\n",
            " 14  locality_name         23650 non-null  object \n",
            " 15  airports_nearest      18157 non-null  float64\n",
            " 16  cityCenters_nearest   18180 non-null  float64\n",
            " 17  parks_around3000      18181 non-null  float64\n",
            " 18  parks_nearest         8079 non-null   float64\n",
            " 19  ponds_around3000      18181 non-null  float64\n",
            " 20  ponds_nearest         9110 non-null   float64\n",
            " 21  days_exposition       20518 non-null  float64\n",
            "dtypes: bool(2), float64(14), int64(3), object(3)\n",
            "memory usage: 3.7+ MB\n"
          ]
        }
      ]
    },
    {
      "cell_type": "code",
      "source": [
        "df.describe().T"
      ],
      "metadata": {
        "colab": {
          "base_uri": "https://localhost:8080/",
          "height": 582
        },
        "id": "4kTuCs4o9JgA",
        "outputId": "495d0272-d82c-4975-8ff1-58d648330856"
      },
      "execution_count": 4,
      "outputs": [
        {
          "output_type": "execute_result",
          "data": {
            "text/plain": [
              "                       count          mean           std      min         25%  \\\n",
              "total_images         23699.0  9.858475e+00  5.682529e+00      0.0        6.00   \n",
              "last_price           23699.0  6.541549e+06  1.088701e+07  12190.0  3400000.00   \n",
              "total_area           23699.0  6.034865e+01  3.565408e+01     12.0       40.00   \n",
              "rooms                23699.0  2.070636e+00  1.078405e+00      0.0        1.00   \n",
              "ceiling_height       14504.0  2.771499e+00  1.261056e+00      1.0        2.52   \n",
              "floors_total         23613.0  1.067382e+01  6.597173e+00      1.0        5.00   \n",
              "living_area          21796.0  3.445785e+01  2.203045e+01      2.0       18.60   \n",
              "floor                23699.0  5.892358e+00  4.885249e+00      1.0        2.00   \n",
              "kitchen_area         21421.0  1.056981e+01  5.905438e+00      1.3        7.00   \n",
              "balcony              12180.0  1.150082e+00  1.071300e+00      0.0        0.00   \n",
              "airports_nearest     18157.0  2.879367e+04  1.263088e+04      0.0    18585.00   \n",
              "cityCenters_nearest  18180.0  1.419128e+04  8.608386e+03    181.0     9238.00   \n",
              "parks_around3000     18181.0  6.114075e-01  8.020736e-01      0.0        0.00   \n",
              "parks_nearest         8079.0  4.908046e+02  3.423180e+02      1.0      288.00   \n",
              "ponds_around3000     18181.0  7.702547e-01  9.383456e-01      0.0        0.00   \n",
              "ponds_nearest         9110.0  5.179809e+02  2.777206e+02     13.0      294.00   \n",
              "days_exposition      20518.0  1.808886e+02  2.197280e+02      1.0       45.00   \n",
              "\n",
              "                            50%        75%          max  \n",
              "total_images               9.00       14.0         50.0  \n",
              "last_price           4650000.00  6800000.0  763000000.0  \n",
              "total_area                52.00       69.9        900.0  \n",
              "rooms                      2.00        3.0         19.0  \n",
              "ceiling_height             2.65        2.8        100.0  \n",
              "floors_total               9.00       16.0         60.0  \n",
              "living_area               30.00       42.3        409.7  \n",
              "floor                      4.00        8.0         33.0  \n",
              "kitchen_area               9.10       12.0        112.0  \n",
              "balcony                    1.00        2.0          5.0  \n",
              "airports_nearest       26726.00    37273.0      84869.0  \n",
              "cityCenters_nearest    13098.50    16293.0      65968.0  \n",
              "parks_around3000           0.00        1.0          3.0  \n",
              "parks_nearest            455.00      612.0       3190.0  \n",
              "ponds_around3000           1.00        1.0          3.0  \n",
              "ponds_nearest            502.00      729.0       1344.0  \n",
              "days_exposition           95.00      232.0       1580.0  "
            ],
            "text/html": [
              "\n",
              "  <div id=\"df-e6c558bd-6c0b-4384-a297-14d74ce1a019\" class=\"colab-df-container\">\n",
              "    <div>\n",
              "<style scoped>\n",
              "    .dataframe tbody tr th:only-of-type {\n",
              "        vertical-align: middle;\n",
              "    }\n",
              "\n",
              "    .dataframe tbody tr th {\n",
              "        vertical-align: top;\n",
              "    }\n",
              "\n",
              "    .dataframe thead th {\n",
              "        text-align: right;\n",
              "    }\n",
              "</style>\n",
              "<table border=\"1\" class=\"dataframe\">\n",
              "  <thead>\n",
              "    <tr style=\"text-align: right;\">\n",
              "      <th></th>\n",
              "      <th>count</th>\n",
              "      <th>mean</th>\n",
              "      <th>std</th>\n",
              "      <th>min</th>\n",
              "      <th>25%</th>\n",
              "      <th>50%</th>\n",
              "      <th>75%</th>\n",
              "      <th>max</th>\n",
              "    </tr>\n",
              "  </thead>\n",
              "  <tbody>\n",
              "    <tr>\n",
              "      <th>total_images</th>\n",
              "      <td>23699.0</td>\n",
              "      <td>9.858475e+00</td>\n",
              "      <td>5.682529e+00</td>\n",
              "      <td>0.0</td>\n",
              "      <td>6.00</td>\n",
              "      <td>9.00</td>\n",
              "      <td>14.0</td>\n",
              "      <td>50.0</td>\n",
              "    </tr>\n",
              "    <tr>\n",
              "      <th>last_price</th>\n",
              "      <td>23699.0</td>\n",
              "      <td>6.541549e+06</td>\n",
              "      <td>1.088701e+07</td>\n",
              "      <td>12190.0</td>\n",
              "      <td>3400000.00</td>\n",
              "      <td>4650000.00</td>\n",
              "      <td>6800000.0</td>\n",
              "      <td>763000000.0</td>\n",
              "    </tr>\n",
              "    <tr>\n",
              "      <th>total_area</th>\n",
              "      <td>23699.0</td>\n",
              "      <td>6.034865e+01</td>\n",
              "      <td>3.565408e+01</td>\n",
              "      <td>12.0</td>\n",
              "      <td>40.00</td>\n",
              "      <td>52.00</td>\n",
              "      <td>69.9</td>\n",
              "      <td>900.0</td>\n",
              "    </tr>\n",
              "    <tr>\n",
              "      <th>rooms</th>\n",
              "      <td>23699.0</td>\n",
              "      <td>2.070636e+00</td>\n",
              "      <td>1.078405e+00</td>\n",
              "      <td>0.0</td>\n",
              "      <td>1.00</td>\n",
              "      <td>2.00</td>\n",
              "      <td>3.0</td>\n",
              "      <td>19.0</td>\n",
              "    </tr>\n",
              "    <tr>\n",
              "      <th>ceiling_height</th>\n",
              "      <td>14504.0</td>\n",
              "      <td>2.771499e+00</td>\n",
              "      <td>1.261056e+00</td>\n",
              "      <td>1.0</td>\n",
              "      <td>2.52</td>\n",
              "      <td>2.65</td>\n",
              "      <td>2.8</td>\n",
              "      <td>100.0</td>\n",
              "    </tr>\n",
              "    <tr>\n",
              "      <th>floors_total</th>\n",
              "      <td>23613.0</td>\n",
              "      <td>1.067382e+01</td>\n",
              "      <td>6.597173e+00</td>\n",
              "      <td>1.0</td>\n",
              "      <td>5.00</td>\n",
              "      <td>9.00</td>\n",
              "      <td>16.0</td>\n",
              "      <td>60.0</td>\n",
              "    </tr>\n",
              "    <tr>\n",
              "      <th>living_area</th>\n",
              "      <td>21796.0</td>\n",
              "      <td>3.445785e+01</td>\n",
              "      <td>2.203045e+01</td>\n",
              "      <td>2.0</td>\n",
              "      <td>18.60</td>\n",
              "      <td>30.00</td>\n",
              "      <td>42.3</td>\n",
              "      <td>409.7</td>\n",
              "    </tr>\n",
              "    <tr>\n",
              "      <th>floor</th>\n",
              "      <td>23699.0</td>\n",
              "      <td>5.892358e+00</td>\n",
              "      <td>4.885249e+00</td>\n",
              "      <td>1.0</td>\n",
              "      <td>2.00</td>\n",
              "      <td>4.00</td>\n",
              "      <td>8.0</td>\n",
              "      <td>33.0</td>\n",
              "    </tr>\n",
              "    <tr>\n",
              "      <th>kitchen_area</th>\n",
              "      <td>21421.0</td>\n",
              "      <td>1.056981e+01</td>\n",
              "      <td>5.905438e+00</td>\n",
              "      <td>1.3</td>\n",
              "      <td>7.00</td>\n",
              "      <td>9.10</td>\n",
              "      <td>12.0</td>\n",
              "      <td>112.0</td>\n",
              "    </tr>\n",
              "    <tr>\n",
              "      <th>balcony</th>\n",
              "      <td>12180.0</td>\n",
              "      <td>1.150082e+00</td>\n",
              "      <td>1.071300e+00</td>\n",
              "      <td>0.0</td>\n",
              "      <td>0.00</td>\n",
              "      <td>1.00</td>\n",
              "      <td>2.0</td>\n",
              "      <td>5.0</td>\n",
              "    </tr>\n",
              "    <tr>\n",
              "      <th>airports_nearest</th>\n",
              "      <td>18157.0</td>\n",
              "      <td>2.879367e+04</td>\n",
              "      <td>1.263088e+04</td>\n",
              "      <td>0.0</td>\n",
              "      <td>18585.00</td>\n",
              "      <td>26726.00</td>\n",
              "      <td>37273.0</td>\n",
              "      <td>84869.0</td>\n",
              "    </tr>\n",
              "    <tr>\n",
              "      <th>cityCenters_nearest</th>\n",
              "      <td>18180.0</td>\n",
              "      <td>1.419128e+04</td>\n",
              "      <td>8.608386e+03</td>\n",
              "      <td>181.0</td>\n",
              "      <td>9238.00</td>\n",
              "      <td>13098.50</td>\n",
              "      <td>16293.0</td>\n",
              "      <td>65968.0</td>\n",
              "    </tr>\n",
              "    <tr>\n",
              "      <th>parks_around3000</th>\n",
              "      <td>18181.0</td>\n",
              "      <td>6.114075e-01</td>\n",
              "      <td>8.020736e-01</td>\n",
              "      <td>0.0</td>\n",
              "      <td>0.00</td>\n",
              "      <td>0.00</td>\n",
              "      <td>1.0</td>\n",
              "      <td>3.0</td>\n",
              "    </tr>\n",
              "    <tr>\n",
              "      <th>parks_nearest</th>\n",
              "      <td>8079.0</td>\n",
              "      <td>4.908046e+02</td>\n",
              "      <td>3.423180e+02</td>\n",
              "      <td>1.0</td>\n",
              "      <td>288.00</td>\n",
              "      <td>455.00</td>\n",
              "      <td>612.0</td>\n",
              "      <td>3190.0</td>\n",
              "    </tr>\n",
              "    <tr>\n",
              "      <th>ponds_around3000</th>\n",
              "      <td>18181.0</td>\n",
              "      <td>7.702547e-01</td>\n",
              "      <td>9.383456e-01</td>\n",
              "      <td>0.0</td>\n",
              "      <td>0.00</td>\n",
              "      <td>1.00</td>\n",
              "      <td>1.0</td>\n",
              "      <td>3.0</td>\n",
              "    </tr>\n",
              "    <tr>\n",
              "      <th>ponds_nearest</th>\n",
              "      <td>9110.0</td>\n",
              "      <td>5.179809e+02</td>\n",
              "      <td>2.777206e+02</td>\n",
              "      <td>13.0</td>\n",
              "      <td>294.00</td>\n",
              "      <td>502.00</td>\n",
              "      <td>729.0</td>\n",
              "      <td>1344.0</td>\n",
              "    </tr>\n",
              "    <tr>\n",
              "      <th>days_exposition</th>\n",
              "      <td>20518.0</td>\n",
              "      <td>1.808886e+02</td>\n",
              "      <td>2.197280e+02</td>\n",
              "      <td>1.0</td>\n",
              "      <td>45.00</td>\n",
              "      <td>95.00</td>\n",
              "      <td>232.0</td>\n",
              "      <td>1580.0</td>\n",
              "    </tr>\n",
              "  </tbody>\n",
              "</table>\n",
              "</div>\n",
              "    <div class=\"colab-df-buttons\">\n",
              "\n",
              "  <div class=\"colab-df-container\">\n",
              "    <button class=\"colab-df-convert\" onclick=\"convertToInteractive('df-e6c558bd-6c0b-4384-a297-14d74ce1a019')\"\n",
              "            title=\"Convert this dataframe to an interactive table.\"\n",
              "            style=\"display:none;\">\n",
              "\n",
              "  <svg xmlns=\"http://www.w3.org/2000/svg\" height=\"24px\" viewBox=\"0 -960 960 960\">\n",
              "    <path d=\"M120-120v-720h720v720H120Zm60-500h600v-160H180v160Zm220 220h160v-160H400v160Zm0 220h160v-160H400v160ZM180-400h160v-160H180v160Zm440 0h160v-160H620v160ZM180-180h160v-160H180v160Zm440 0h160v-160H620v160Z\"/>\n",
              "  </svg>\n",
              "    </button>\n",
              "\n",
              "  <style>\n",
              "    .colab-df-container {\n",
              "      display:flex;\n",
              "      gap: 12px;\n",
              "    }\n",
              "\n",
              "    .colab-df-convert {\n",
              "      background-color: #E8F0FE;\n",
              "      border: none;\n",
              "      border-radius: 50%;\n",
              "      cursor: pointer;\n",
              "      display: none;\n",
              "      fill: #1967D2;\n",
              "      height: 32px;\n",
              "      padding: 0 0 0 0;\n",
              "      width: 32px;\n",
              "    }\n",
              "\n",
              "    .colab-df-convert:hover {\n",
              "      background-color: #E2EBFA;\n",
              "      box-shadow: 0px 1px 2px rgba(60, 64, 67, 0.3), 0px 1px 3px 1px rgba(60, 64, 67, 0.15);\n",
              "      fill: #174EA6;\n",
              "    }\n",
              "\n",
              "    .colab-df-buttons div {\n",
              "      margin-bottom: 4px;\n",
              "    }\n",
              "\n",
              "    [theme=dark] .colab-df-convert {\n",
              "      background-color: #3B4455;\n",
              "      fill: #D2E3FC;\n",
              "    }\n",
              "\n",
              "    [theme=dark] .colab-df-convert:hover {\n",
              "      background-color: #434B5C;\n",
              "      box-shadow: 0px 1px 3px 1px rgba(0, 0, 0, 0.15);\n",
              "      filter: drop-shadow(0px 1px 2px rgba(0, 0, 0, 0.3));\n",
              "      fill: #FFFFFF;\n",
              "    }\n",
              "  </style>\n",
              "\n",
              "    <script>\n",
              "      const buttonEl =\n",
              "        document.querySelector('#df-e6c558bd-6c0b-4384-a297-14d74ce1a019 button.colab-df-convert');\n",
              "      buttonEl.style.display =\n",
              "        google.colab.kernel.accessAllowed ? 'block' : 'none';\n",
              "\n",
              "      async function convertToInteractive(key) {\n",
              "        const element = document.querySelector('#df-e6c558bd-6c0b-4384-a297-14d74ce1a019');\n",
              "        const dataTable =\n",
              "          await google.colab.kernel.invokeFunction('convertToInteractive',\n",
              "                                                    [key], {});\n",
              "        if (!dataTable) return;\n",
              "\n",
              "        const docLinkHtml = 'Like what you see? Visit the ' +\n",
              "          '<a target=\"_blank\" href=https://colab.research.google.com/notebooks/data_table.ipynb>data table notebook</a>'\n",
              "          + ' to learn more about interactive tables.';\n",
              "        element.innerHTML = '';\n",
              "        dataTable['output_type'] = 'display_data';\n",
              "        await google.colab.output.renderOutput(dataTable, element);\n",
              "        const docLink = document.createElement('div');\n",
              "        docLink.innerHTML = docLinkHtml;\n",
              "        element.appendChild(docLink);\n",
              "      }\n",
              "    </script>\n",
              "  </div>\n",
              "\n",
              "\n",
              "    <div id=\"df-054e401f-c958-4869-91ed-014d5bec9cae\">\n",
              "      <button class=\"colab-df-quickchart\" onclick=\"quickchart('df-054e401f-c958-4869-91ed-014d5bec9cae')\"\n",
              "                title=\"Suggest charts\"\n",
              "                style=\"display:none;\">\n",
              "\n",
              "<svg xmlns=\"http://www.w3.org/2000/svg\" height=\"24px\"viewBox=\"0 0 24 24\"\n",
              "     width=\"24px\">\n",
              "    <g>\n",
              "        <path d=\"M19 3H5c-1.1 0-2 .9-2 2v14c0 1.1.9 2 2 2h14c1.1 0 2-.9 2-2V5c0-1.1-.9-2-2-2zM9 17H7v-7h2v7zm4 0h-2V7h2v10zm4 0h-2v-4h2v4z\"/>\n",
              "    </g>\n",
              "</svg>\n",
              "      </button>\n",
              "\n",
              "<style>\n",
              "  .colab-df-quickchart {\n",
              "      --bg-color: #E8F0FE;\n",
              "      --fill-color: #1967D2;\n",
              "      --hover-bg-color: #E2EBFA;\n",
              "      --hover-fill-color: #174EA6;\n",
              "      --disabled-fill-color: #AAA;\n",
              "      --disabled-bg-color: #DDD;\n",
              "  }\n",
              "\n",
              "  [theme=dark] .colab-df-quickchart {\n",
              "      --bg-color: #3B4455;\n",
              "      --fill-color: #D2E3FC;\n",
              "      --hover-bg-color: #434B5C;\n",
              "      --hover-fill-color: #FFFFFF;\n",
              "      --disabled-bg-color: #3B4455;\n",
              "      --disabled-fill-color: #666;\n",
              "  }\n",
              "\n",
              "  .colab-df-quickchart {\n",
              "    background-color: var(--bg-color);\n",
              "    border: none;\n",
              "    border-radius: 50%;\n",
              "    cursor: pointer;\n",
              "    display: none;\n",
              "    fill: var(--fill-color);\n",
              "    height: 32px;\n",
              "    padding: 0;\n",
              "    width: 32px;\n",
              "  }\n",
              "\n",
              "  .colab-df-quickchart:hover {\n",
              "    background-color: var(--hover-bg-color);\n",
              "    box-shadow: 0 1px 2px rgba(60, 64, 67, 0.3), 0 1px 3px 1px rgba(60, 64, 67, 0.15);\n",
              "    fill: var(--button-hover-fill-color);\n",
              "  }\n",
              "\n",
              "  .colab-df-quickchart-complete:disabled,\n",
              "  .colab-df-quickchart-complete:disabled:hover {\n",
              "    background-color: var(--disabled-bg-color);\n",
              "    fill: var(--disabled-fill-color);\n",
              "    box-shadow: none;\n",
              "  }\n",
              "\n",
              "  .colab-df-spinner {\n",
              "    border: 2px solid var(--fill-color);\n",
              "    border-color: transparent;\n",
              "    border-bottom-color: var(--fill-color);\n",
              "    animation:\n",
              "      spin 1s steps(1) infinite;\n",
              "  }\n",
              "\n",
              "  @keyframes spin {\n",
              "    0% {\n",
              "      border-color: transparent;\n",
              "      border-bottom-color: var(--fill-color);\n",
              "      border-left-color: var(--fill-color);\n",
              "    }\n",
              "    20% {\n",
              "      border-color: transparent;\n",
              "      border-left-color: var(--fill-color);\n",
              "      border-top-color: var(--fill-color);\n",
              "    }\n",
              "    30% {\n",
              "      border-color: transparent;\n",
              "      border-left-color: var(--fill-color);\n",
              "      border-top-color: var(--fill-color);\n",
              "      border-right-color: var(--fill-color);\n",
              "    }\n",
              "    40% {\n",
              "      border-color: transparent;\n",
              "      border-right-color: var(--fill-color);\n",
              "      border-top-color: var(--fill-color);\n",
              "    }\n",
              "    60% {\n",
              "      border-color: transparent;\n",
              "      border-right-color: var(--fill-color);\n",
              "    }\n",
              "    80% {\n",
              "      border-color: transparent;\n",
              "      border-right-color: var(--fill-color);\n",
              "      border-bottom-color: var(--fill-color);\n",
              "    }\n",
              "    90% {\n",
              "      border-color: transparent;\n",
              "      border-bottom-color: var(--fill-color);\n",
              "    }\n",
              "  }\n",
              "</style>\n",
              "\n",
              "      <script>\n",
              "        async function quickchart(key) {\n",
              "          const quickchartButtonEl =\n",
              "            document.querySelector('#' + key + ' button');\n",
              "          quickchartButtonEl.disabled = true;  // To prevent multiple clicks.\n",
              "          quickchartButtonEl.classList.add('colab-df-spinner');\n",
              "          try {\n",
              "            const charts = await google.colab.kernel.invokeFunction(\n",
              "                'suggestCharts', [key], {});\n",
              "          } catch (error) {\n",
              "            console.error('Error during call to suggestCharts:', error);\n",
              "          }\n",
              "          quickchartButtonEl.classList.remove('colab-df-spinner');\n",
              "          quickchartButtonEl.classList.add('colab-df-quickchart-complete');\n",
              "        }\n",
              "        (() => {\n",
              "          let quickchartButtonEl =\n",
              "            document.querySelector('#df-054e401f-c958-4869-91ed-014d5bec9cae button');\n",
              "          quickchartButtonEl.style.display =\n",
              "            google.colab.kernel.accessAllowed ? 'block' : 'none';\n",
              "        })();\n",
              "      </script>\n",
              "    </div>\n",
              "    </div>\n",
              "  </div>\n"
            ],
            "application/vnd.google.colaboratory.intrinsic+json": {
              "type": "dataframe",
              "summary": "{\n  \"name\": \"df\",\n  \"rows\": 17,\n  \"fields\": [\n    {\n      \"column\": \"count\",\n      \"properties\": {\n        \"dtype\": \"number\",\n        \"std\": 5209.229502273147,\n        \"min\": 8079.0,\n        \"max\": 23699.0,\n        \"num_unique_values\": 12,\n        \"samples\": [\n          9110.0,\n          8079.0,\n          23699.0\n        ],\n        \"semantic_type\": \"\",\n        \"description\": \"\"\n      }\n    },\n    {\n      \"column\": \"mean\",\n      \"properties\": {\n        \"dtype\": \"number\",\n        \"std\": 1585904.788002806,\n        \"min\": 0.6114075133381002,\n        \"max\": 6541548.771551542,\n        \"num_unique_values\": 17,\n        \"samples\": [\n          9.858475041140977,\n          6541548.771551542,\n          10.67382374115953\n        ],\n        \"semantic_type\": \"\",\n        \"description\": \"\"\n      }\n    },\n    {\n      \"column\": \"std\",\n      \"properties\": {\n        \"dtype\": \"number\",\n        \"std\": 2640154.9858636847,\n        \"min\": 0.8020735668852295,\n        \"max\": 10887013.267544659,\n        \"num_unique_values\": 17,\n        \"samples\": [\n          5.682528956373926,\n          10887013.267544659,\n          6.597172989041479\n        ],\n        \"semantic_type\": \"\",\n        \"description\": \"\"\n      }\n    },\n    {\n      \"column\": \"min\",\n      \"properties\": {\n        \"dtype\": \"number\",\n        \"std\": 2953.5805048578704,\n        \"min\": 0.0,\n        \"max\": 12190.0,\n        \"num_unique_values\": 8,\n        \"samples\": [\n          12190.0,\n          1.3,\n          0.0\n        ],\n        \"semantic_type\": \"\",\n        \"description\": \"\"\n      }\n    },\n    {\n      \"column\": \"25%\",\n      \"properties\": {\n        \"dtype\": \"number\",\n        \"std\": 824203.0310083033,\n        \"min\": 0.0,\n        \"max\": 3400000.0,\n        \"num_unique_values\": 15,\n        \"samples\": [\n          0.0,\n          9238.0,\n          6.0\n        ],\n        \"semantic_type\": \"\",\n        \"description\": \"\"\n      }\n    },\n    {\n      \"column\": \"50%\",\n      \"properties\": {\n        \"dtype\": \"number\",\n        \"std\": 1127190.875929088,\n        \"min\": 0.0,\n        \"max\": 4650000.0,\n        \"num_unique_values\": 15,\n        \"samples\": [\n          26726.0,\n          0.0,\n          9.0\n        ],\n        \"semantic_type\": \"\",\n        \"description\": \"\"\n      }\n    },\n    {\n      \"column\": \"75%\",\n      \"properties\": {\n        \"dtype\": \"number\",\n        \"std\": 1648431.5830950919,\n        \"min\": 1.0,\n        \"max\": 6800000.0,\n        \"num_unique_values\": 16,\n        \"samples\": [\n          14.0,\n          6800000.0,\n          16.0\n        ],\n        \"semantic_type\": \"\",\n        \"description\": \"\"\n      }\n    },\n    {\n      \"column\": \"max\",\n      \"properties\": {\n        \"dtype\": \"number\",\n        \"std\": 185052278.76379892,\n        \"min\": 3.0,\n        \"max\": 763000000.0,\n        \"num_unique_values\": 16,\n        \"samples\": [\n          50.0,\n          763000000.0,\n          60.0\n        ],\n        \"semantic_type\": \"\",\n        \"description\": \"\"\n      }\n    }\n  ]\n}"
            }
          },
          "metadata": {},
          "execution_count": 4
        }
      ]
    },
    {
      "cell_type": "code",
      "source": [
        "df.describe(include='O').T"
      ],
      "metadata": {
        "colab": {
          "base_uri": "https://localhost:8080/",
          "height": 143
        },
        "id": "xBBOILAWRXHg",
        "outputId": "186aae92-4691-4bda-b9e4-8faa680cb549"
      },
      "execution_count": 5,
      "outputs": [
        {
          "output_type": "execute_result",
          "data": {
            "text/plain": [
              "                      count unique                  top   freq\n",
              "first_day_exposition  23699   1491  2018-02-01T00:00:00    368\n",
              "is_apartment           2775      2                False   2725\n",
              "locality_name         23650    364      Санкт-Петербург  15721"
            ],
            "text/html": [
              "\n",
              "  <div id=\"df-b65881c6-4cfc-4752-b3b0-0de1ab1fc2e8\" class=\"colab-df-container\">\n",
              "    <div>\n",
              "<style scoped>\n",
              "    .dataframe tbody tr th:only-of-type {\n",
              "        vertical-align: middle;\n",
              "    }\n",
              "\n",
              "    .dataframe tbody tr th {\n",
              "        vertical-align: top;\n",
              "    }\n",
              "\n",
              "    .dataframe thead th {\n",
              "        text-align: right;\n",
              "    }\n",
              "</style>\n",
              "<table border=\"1\" class=\"dataframe\">\n",
              "  <thead>\n",
              "    <tr style=\"text-align: right;\">\n",
              "      <th></th>\n",
              "      <th>count</th>\n",
              "      <th>unique</th>\n",
              "      <th>top</th>\n",
              "      <th>freq</th>\n",
              "    </tr>\n",
              "  </thead>\n",
              "  <tbody>\n",
              "    <tr>\n",
              "      <th>first_day_exposition</th>\n",
              "      <td>23699</td>\n",
              "      <td>1491</td>\n",
              "      <td>2018-02-01T00:00:00</td>\n",
              "      <td>368</td>\n",
              "    </tr>\n",
              "    <tr>\n",
              "      <th>is_apartment</th>\n",
              "      <td>2775</td>\n",
              "      <td>2</td>\n",
              "      <td>False</td>\n",
              "      <td>2725</td>\n",
              "    </tr>\n",
              "    <tr>\n",
              "      <th>locality_name</th>\n",
              "      <td>23650</td>\n",
              "      <td>364</td>\n",
              "      <td>Санкт-Петербург</td>\n",
              "      <td>15721</td>\n",
              "    </tr>\n",
              "  </tbody>\n",
              "</table>\n",
              "</div>\n",
              "    <div class=\"colab-df-buttons\">\n",
              "\n",
              "  <div class=\"colab-df-container\">\n",
              "    <button class=\"colab-df-convert\" onclick=\"convertToInteractive('df-b65881c6-4cfc-4752-b3b0-0de1ab1fc2e8')\"\n",
              "            title=\"Convert this dataframe to an interactive table.\"\n",
              "            style=\"display:none;\">\n",
              "\n",
              "  <svg xmlns=\"http://www.w3.org/2000/svg\" height=\"24px\" viewBox=\"0 -960 960 960\">\n",
              "    <path d=\"M120-120v-720h720v720H120Zm60-500h600v-160H180v160Zm220 220h160v-160H400v160Zm0 220h160v-160H400v160ZM180-400h160v-160H180v160Zm440 0h160v-160H620v160ZM180-180h160v-160H180v160Zm440 0h160v-160H620v160Z\"/>\n",
              "  </svg>\n",
              "    </button>\n",
              "\n",
              "  <style>\n",
              "    .colab-df-container {\n",
              "      display:flex;\n",
              "      gap: 12px;\n",
              "    }\n",
              "\n",
              "    .colab-df-convert {\n",
              "      background-color: #E8F0FE;\n",
              "      border: none;\n",
              "      border-radius: 50%;\n",
              "      cursor: pointer;\n",
              "      display: none;\n",
              "      fill: #1967D2;\n",
              "      height: 32px;\n",
              "      padding: 0 0 0 0;\n",
              "      width: 32px;\n",
              "    }\n",
              "\n",
              "    .colab-df-convert:hover {\n",
              "      background-color: #E2EBFA;\n",
              "      box-shadow: 0px 1px 2px rgba(60, 64, 67, 0.3), 0px 1px 3px 1px rgba(60, 64, 67, 0.15);\n",
              "      fill: #174EA6;\n",
              "    }\n",
              "\n",
              "    .colab-df-buttons div {\n",
              "      margin-bottom: 4px;\n",
              "    }\n",
              "\n",
              "    [theme=dark] .colab-df-convert {\n",
              "      background-color: #3B4455;\n",
              "      fill: #D2E3FC;\n",
              "    }\n",
              "\n",
              "    [theme=dark] .colab-df-convert:hover {\n",
              "      background-color: #434B5C;\n",
              "      box-shadow: 0px 1px 3px 1px rgba(0, 0, 0, 0.15);\n",
              "      filter: drop-shadow(0px 1px 2px rgba(0, 0, 0, 0.3));\n",
              "      fill: #FFFFFF;\n",
              "    }\n",
              "  </style>\n",
              "\n",
              "    <script>\n",
              "      const buttonEl =\n",
              "        document.querySelector('#df-b65881c6-4cfc-4752-b3b0-0de1ab1fc2e8 button.colab-df-convert');\n",
              "      buttonEl.style.display =\n",
              "        google.colab.kernel.accessAllowed ? 'block' : 'none';\n",
              "\n",
              "      async function convertToInteractive(key) {\n",
              "        const element = document.querySelector('#df-b65881c6-4cfc-4752-b3b0-0de1ab1fc2e8');\n",
              "        const dataTable =\n",
              "          await google.colab.kernel.invokeFunction('convertToInteractive',\n",
              "                                                    [key], {});\n",
              "        if (!dataTable) return;\n",
              "\n",
              "        const docLinkHtml = 'Like what you see? Visit the ' +\n",
              "          '<a target=\"_blank\" href=https://colab.research.google.com/notebooks/data_table.ipynb>data table notebook</a>'\n",
              "          + ' to learn more about interactive tables.';\n",
              "        element.innerHTML = '';\n",
              "        dataTable['output_type'] = 'display_data';\n",
              "        await google.colab.output.renderOutput(dataTable, element);\n",
              "        const docLink = document.createElement('div');\n",
              "        docLink.innerHTML = docLinkHtml;\n",
              "        element.appendChild(docLink);\n",
              "      }\n",
              "    </script>\n",
              "  </div>\n",
              "\n",
              "\n",
              "    <div id=\"df-3e040b02-eaf2-4651-8104-d9350be7bae0\">\n",
              "      <button class=\"colab-df-quickchart\" onclick=\"quickchart('df-3e040b02-eaf2-4651-8104-d9350be7bae0')\"\n",
              "                title=\"Suggest charts\"\n",
              "                style=\"display:none;\">\n",
              "\n",
              "<svg xmlns=\"http://www.w3.org/2000/svg\" height=\"24px\"viewBox=\"0 0 24 24\"\n",
              "     width=\"24px\">\n",
              "    <g>\n",
              "        <path d=\"M19 3H5c-1.1 0-2 .9-2 2v14c0 1.1.9 2 2 2h14c1.1 0 2-.9 2-2V5c0-1.1-.9-2-2-2zM9 17H7v-7h2v7zm4 0h-2V7h2v10zm4 0h-2v-4h2v4z\"/>\n",
              "    </g>\n",
              "</svg>\n",
              "      </button>\n",
              "\n",
              "<style>\n",
              "  .colab-df-quickchart {\n",
              "      --bg-color: #E8F0FE;\n",
              "      --fill-color: #1967D2;\n",
              "      --hover-bg-color: #E2EBFA;\n",
              "      --hover-fill-color: #174EA6;\n",
              "      --disabled-fill-color: #AAA;\n",
              "      --disabled-bg-color: #DDD;\n",
              "  }\n",
              "\n",
              "  [theme=dark] .colab-df-quickchart {\n",
              "      --bg-color: #3B4455;\n",
              "      --fill-color: #D2E3FC;\n",
              "      --hover-bg-color: #434B5C;\n",
              "      --hover-fill-color: #FFFFFF;\n",
              "      --disabled-bg-color: #3B4455;\n",
              "      --disabled-fill-color: #666;\n",
              "  }\n",
              "\n",
              "  .colab-df-quickchart {\n",
              "    background-color: var(--bg-color);\n",
              "    border: none;\n",
              "    border-radius: 50%;\n",
              "    cursor: pointer;\n",
              "    display: none;\n",
              "    fill: var(--fill-color);\n",
              "    height: 32px;\n",
              "    padding: 0;\n",
              "    width: 32px;\n",
              "  }\n",
              "\n",
              "  .colab-df-quickchart:hover {\n",
              "    background-color: var(--hover-bg-color);\n",
              "    box-shadow: 0 1px 2px rgba(60, 64, 67, 0.3), 0 1px 3px 1px rgba(60, 64, 67, 0.15);\n",
              "    fill: var(--button-hover-fill-color);\n",
              "  }\n",
              "\n",
              "  .colab-df-quickchart-complete:disabled,\n",
              "  .colab-df-quickchart-complete:disabled:hover {\n",
              "    background-color: var(--disabled-bg-color);\n",
              "    fill: var(--disabled-fill-color);\n",
              "    box-shadow: none;\n",
              "  }\n",
              "\n",
              "  .colab-df-spinner {\n",
              "    border: 2px solid var(--fill-color);\n",
              "    border-color: transparent;\n",
              "    border-bottom-color: var(--fill-color);\n",
              "    animation:\n",
              "      spin 1s steps(1) infinite;\n",
              "  }\n",
              "\n",
              "  @keyframes spin {\n",
              "    0% {\n",
              "      border-color: transparent;\n",
              "      border-bottom-color: var(--fill-color);\n",
              "      border-left-color: var(--fill-color);\n",
              "    }\n",
              "    20% {\n",
              "      border-color: transparent;\n",
              "      border-left-color: var(--fill-color);\n",
              "      border-top-color: var(--fill-color);\n",
              "    }\n",
              "    30% {\n",
              "      border-color: transparent;\n",
              "      border-left-color: var(--fill-color);\n",
              "      border-top-color: var(--fill-color);\n",
              "      border-right-color: var(--fill-color);\n",
              "    }\n",
              "    40% {\n",
              "      border-color: transparent;\n",
              "      border-right-color: var(--fill-color);\n",
              "      border-top-color: var(--fill-color);\n",
              "    }\n",
              "    60% {\n",
              "      border-color: transparent;\n",
              "      border-right-color: var(--fill-color);\n",
              "    }\n",
              "    80% {\n",
              "      border-color: transparent;\n",
              "      border-right-color: var(--fill-color);\n",
              "      border-bottom-color: var(--fill-color);\n",
              "    }\n",
              "    90% {\n",
              "      border-color: transparent;\n",
              "      border-bottom-color: var(--fill-color);\n",
              "    }\n",
              "  }\n",
              "</style>\n",
              "\n",
              "      <script>\n",
              "        async function quickchart(key) {\n",
              "          const quickchartButtonEl =\n",
              "            document.querySelector('#' + key + ' button');\n",
              "          quickchartButtonEl.disabled = true;  // To prevent multiple clicks.\n",
              "          quickchartButtonEl.classList.add('colab-df-spinner');\n",
              "          try {\n",
              "            const charts = await google.colab.kernel.invokeFunction(\n",
              "                'suggestCharts', [key], {});\n",
              "          } catch (error) {\n",
              "            console.error('Error during call to suggestCharts:', error);\n",
              "          }\n",
              "          quickchartButtonEl.classList.remove('colab-df-spinner');\n",
              "          quickchartButtonEl.classList.add('colab-df-quickchart-complete');\n",
              "        }\n",
              "        (() => {\n",
              "          let quickchartButtonEl =\n",
              "            document.querySelector('#df-3e040b02-eaf2-4651-8104-d9350be7bae0 button');\n",
              "          quickchartButtonEl.style.display =\n",
              "            google.colab.kernel.accessAllowed ? 'block' : 'none';\n",
              "        })();\n",
              "      </script>\n",
              "    </div>\n",
              "    </div>\n",
              "  </div>\n"
            ],
            "application/vnd.google.colaboratory.intrinsic+json": {
              "type": "dataframe",
              "summary": "{\n  \"name\": \"df\",\n  \"rows\": 3,\n  \"fields\": [\n    {\n      \"column\": \"count\",\n      \"properties\": {\n        \"dtype\": \"date\",\n        \"min\": \"2775\",\n        \"max\": \"23699\",\n        \"num_unique_values\": 3,\n        \"samples\": [\n          \"23699\",\n          \"2775\",\n          \"23650\"\n        ],\n        \"semantic_type\": \"\",\n        \"description\": \"\"\n      }\n    },\n    {\n      \"column\": \"unique\",\n      \"properties\": {\n        \"dtype\": \"date\",\n        \"min\": 2,\n        \"max\": 1491,\n        \"num_unique_values\": 3,\n        \"samples\": [\n          1491,\n          2,\n          364\n        ],\n        \"semantic_type\": \"\",\n        \"description\": \"\"\n      }\n    },\n    {\n      \"column\": \"top\",\n      \"properties\": {\n        \"dtype\": \"string\",\n        \"num_unique_values\": 3,\n        \"samples\": [\n          \"2018-02-01T00:00:00\",\n          false,\n          \"\\u0421\\u0430\\u043d\\u043a\\u0442-\\u041f\\u0435\\u0442\\u0435\\u0440\\u0431\\u0443\\u0440\\u0433\"\n        ],\n        \"semantic_type\": \"\",\n        \"description\": \"\"\n      }\n    },\n    {\n      \"column\": \"freq\",\n      \"properties\": {\n        \"dtype\": \"date\",\n        \"min\": \"368\",\n        \"max\": \"15721\",\n        \"num_unique_values\": 3,\n        \"samples\": [\n          \"368\",\n          \"2725\",\n          \"15721\"\n        ],\n        \"semantic_type\": \"\",\n        \"description\": \"\"\n      }\n    }\n  ]\n}"
            }
          },
          "metadata": {},
          "execution_count": 5
        }
      ]
    },
    {
      "cell_type": "markdown",
      "source": [
        "Все эти населенные пункты находятся в Ленинградской области"
      ],
      "metadata": {
        "id": "dV5TVnGfnJ-K"
      }
    },
    {
      "cell_type": "markdown",
      "metadata": {
        "id": "nHJdyTFy9btb"
      },
      "source": [
        "## Предобработка данных (пропуски, повторы, аномалии, артефакты, лишние столбцы,  каст типов данных, добавление новых метрик и столбцов)"
      ]
    },
    {
      "cell_type": "markdown",
      "source": [
        "В стобце is_apartment, studio, open_plan заменим True/False на 1/0 для того, чтобы с этими данными можно было работать как с числовыми"
      ],
      "metadata": {
        "id": "tr97lzwxjLsR"
      }
    },
    {
      "cell_type": "code",
      "source": [
        "cols = ['is_apartment', 'studio', 'open_plan']\n",
        "for col in cols:\n",
        "    df[col] = df[col].replace({True: 1, False: 0})\n",
        "\n",
        "df[cols].count().reset_index()"
      ],
      "metadata": {
        "colab": {
          "base_uri": "https://localhost:8080/",
          "height": 143
        },
        "id": "Tt0Q8ooyjLDi",
        "outputId": "8749cc54-3d1b-4a07-e5e6-13383ae49f87"
      },
      "execution_count": 6,
      "outputs": [
        {
          "output_type": "execute_result",
          "data": {
            "text/plain": [
              "          index      0\n",
              "0  is_apartment   2775\n",
              "1        studio  23699\n",
              "2     open_plan  23699"
            ],
            "text/html": [
              "\n",
              "  <div id=\"df-b2ef1f97-4e09-4751-aa21-f07ce17c8018\" class=\"colab-df-container\">\n",
              "    <div>\n",
              "<style scoped>\n",
              "    .dataframe tbody tr th:only-of-type {\n",
              "        vertical-align: middle;\n",
              "    }\n",
              "\n",
              "    .dataframe tbody tr th {\n",
              "        vertical-align: top;\n",
              "    }\n",
              "\n",
              "    .dataframe thead th {\n",
              "        text-align: right;\n",
              "    }\n",
              "</style>\n",
              "<table border=\"1\" class=\"dataframe\">\n",
              "  <thead>\n",
              "    <tr style=\"text-align: right;\">\n",
              "      <th></th>\n",
              "      <th>index</th>\n",
              "      <th>0</th>\n",
              "    </tr>\n",
              "  </thead>\n",
              "  <tbody>\n",
              "    <tr>\n",
              "      <th>0</th>\n",
              "      <td>is_apartment</td>\n",
              "      <td>2775</td>\n",
              "    </tr>\n",
              "    <tr>\n",
              "      <th>1</th>\n",
              "      <td>studio</td>\n",
              "      <td>23699</td>\n",
              "    </tr>\n",
              "    <tr>\n",
              "      <th>2</th>\n",
              "      <td>open_plan</td>\n",
              "      <td>23699</td>\n",
              "    </tr>\n",
              "  </tbody>\n",
              "</table>\n",
              "</div>\n",
              "    <div class=\"colab-df-buttons\">\n",
              "\n",
              "  <div class=\"colab-df-container\">\n",
              "    <button class=\"colab-df-convert\" onclick=\"convertToInteractive('df-b2ef1f97-4e09-4751-aa21-f07ce17c8018')\"\n",
              "            title=\"Convert this dataframe to an interactive table.\"\n",
              "            style=\"display:none;\">\n",
              "\n",
              "  <svg xmlns=\"http://www.w3.org/2000/svg\" height=\"24px\" viewBox=\"0 -960 960 960\">\n",
              "    <path d=\"M120-120v-720h720v720H120Zm60-500h600v-160H180v160Zm220 220h160v-160H400v160Zm0 220h160v-160H400v160ZM180-400h160v-160H180v160Zm440 0h160v-160H620v160ZM180-180h160v-160H180v160Zm440 0h160v-160H620v160Z\"/>\n",
              "  </svg>\n",
              "    </button>\n",
              "\n",
              "  <style>\n",
              "    .colab-df-container {\n",
              "      display:flex;\n",
              "      gap: 12px;\n",
              "    }\n",
              "\n",
              "    .colab-df-convert {\n",
              "      background-color: #E8F0FE;\n",
              "      border: none;\n",
              "      border-radius: 50%;\n",
              "      cursor: pointer;\n",
              "      display: none;\n",
              "      fill: #1967D2;\n",
              "      height: 32px;\n",
              "      padding: 0 0 0 0;\n",
              "      width: 32px;\n",
              "    }\n",
              "\n",
              "    .colab-df-convert:hover {\n",
              "      background-color: #E2EBFA;\n",
              "      box-shadow: 0px 1px 2px rgba(60, 64, 67, 0.3), 0px 1px 3px 1px rgba(60, 64, 67, 0.15);\n",
              "      fill: #174EA6;\n",
              "    }\n",
              "\n",
              "    .colab-df-buttons div {\n",
              "      margin-bottom: 4px;\n",
              "    }\n",
              "\n",
              "    [theme=dark] .colab-df-convert {\n",
              "      background-color: #3B4455;\n",
              "      fill: #D2E3FC;\n",
              "    }\n",
              "\n",
              "    [theme=dark] .colab-df-convert:hover {\n",
              "      background-color: #434B5C;\n",
              "      box-shadow: 0px 1px 3px 1px rgba(0, 0, 0, 0.15);\n",
              "      filter: drop-shadow(0px 1px 2px rgba(0, 0, 0, 0.3));\n",
              "      fill: #FFFFFF;\n",
              "    }\n",
              "  </style>\n",
              "\n",
              "    <script>\n",
              "      const buttonEl =\n",
              "        document.querySelector('#df-b2ef1f97-4e09-4751-aa21-f07ce17c8018 button.colab-df-convert');\n",
              "      buttonEl.style.display =\n",
              "        google.colab.kernel.accessAllowed ? 'block' : 'none';\n",
              "\n",
              "      async function convertToInteractive(key) {\n",
              "        const element = document.querySelector('#df-b2ef1f97-4e09-4751-aa21-f07ce17c8018');\n",
              "        const dataTable =\n",
              "          await google.colab.kernel.invokeFunction('convertToInteractive',\n",
              "                                                    [key], {});\n",
              "        if (!dataTable) return;\n",
              "\n",
              "        const docLinkHtml = 'Like what you see? Visit the ' +\n",
              "          '<a target=\"_blank\" href=https://colab.research.google.com/notebooks/data_table.ipynb>data table notebook</a>'\n",
              "          + ' to learn more about interactive tables.';\n",
              "        element.innerHTML = '';\n",
              "        dataTable['output_type'] = 'display_data';\n",
              "        await google.colab.output.renderOutput(dataTable, element);\n",
              "        const docLink = document.createElement('div');\n",
              "        docLink.innerHTML = docLinkHtml;\n",
              "        element.appendChild(docLink);\n",
              "      }\n",
              "    </script>\n",
              "  </div>\n",
              "\n",
              "\n",
              "    <div id=\"df-139d3d2c-5c0a-4f14-8ca3-617218a31c84\">\n",
              "      <button class=\"colab-df-quickchart\" onclick=\"quickchart('df-139d3d2c-5c0a-4f14-8ca3-617218a31c84')\"\n",
              "                title=\"Suggest charts\"\n",
              "                style=\"display:none;\">\n",
              "\n",
              "<svg xmlns=\"http://www.w3.org/2000/svg\" height=\"24px\"viewBox=\"0 0 24 24\"\n",
              "     width=\"24px\">\n",
              "    <g>\n",
              "        <path d=\"M19 3H5c-1.1 0-2 .9-2 2v14c0 1.1.9 2 2 2h14c1.1 0 2-.9 2-2V5c0-1.1-.9-2-2-2zM9 17H7v-7h2v7zm4 0h-2V7h2v10zm4 0h-2v-4h2v4z\"/>\n",
              "    </g>\n",
              "</svg>\n",
              "      </button>\n",
              "\n",
              "<style>\n",
              "  .colab-df-quickchart {\n",
              "      --bg-color: #E8F0FE;\n",
              "      --fill-color: #1967D2;\n",
              "      --hover-bg-color: #E2EBFA;\n",
              "      --hover-fill-color: #174EA6;\n",
              "      --disabled-fill-color: #AAA;\n",
              "      --disabled-bg-color: #DDD;\n",
              "  }\n",
              "\n",
              "  [theme=dark] .colab-df-quickchart {\n",
              "      --bg-color: #3B4455;\n",
              "      --fill-color: #D2E3FC;\n",
              "      --hover-bg-color: #434B5C;\n",
              "      --hover-fill-color: #FFFFFF;\n",
              "      --disabled-bg-color: #3B4455;\n",
              "      --disabled-fill-color: #666;\n",
              "  }\n",
              "\n",
              "  .colab-df-quickchart {\n",
              "    background-color: var(--bg-color);\n",
              "    border: none;\n",
              "    border-radius: 50%;\n",
              "    cursor: pointer;\n",
              "    display: none;\n",
              "    fill: var(--fill-color);\n",
              "    height: 32px;\n",
              "    padding: 0;\n",
              "    width: 32px;\n",
              "  }\n",
              "\n",
              "  .colab-df-quickchart:hover {\n",
              "    background-color: var(--hover-bg-color);\n",
              "    box-shadow: 0 1px 2px rgba(60, 64, 67, 0.3), 0 1px 3px 1px rgba(60, 64, 67, 0.15);\n",
              "    fill: var(--button-hover-fill-color);\n",
              "  }\n",
              "\n",
              "  .colab-df-quickchart-complete:disabled,\n",
              "  .colab-df-quickchart-complete:disabled:hover {\n",
              "    background-color: var(--disabled-bg-color);\n",
              "    fill: var(--disabled-fill-color);\n",
              "    box-shadow: none;\n",
              "  }\n",
              "\n",
              "  .colab-df-spinner {\n",
              "    border: 2px solid var(--fill-color);\n",
              "    border-color: transparent;\n",
              "    border-bottom-color: var(--fill-color);\n",
              "    animation:\n",
              "      spin 1s steps(1) infinite;\n",
              "  }\n",
              "\n",
              "  @keyframes spin {\n",
              "    0% {\n",
              "      border-color: transparent;\n",
              "      border-bottom-color: var(--fill-color);\n",
              "      border-left-color: var(--fill-color);\n",
              "    }\n",
              "    20% {\n",
              "      border-color: transparent;\n",
              "      border-left-color: var(--fill-color);\n",
              "      border-top-color: var(--fill-color);\n",
              "    }\n",
              "    30% {\n",
              "      border-color: transparent;\n",
              "      border-left-color: var(--fill-color);\n",
              "      border-top-color: var(--fill-color);\n",
              "      border-right-color: var(--fill-color);\n",
              "    }\n",
              "    40% {\n",
              "      border-color: transparent;\n",
              "      border-right-color: var(--fill-color);\n",
              "      border-top-color: var(--fill-color);\n",
              "    }\n",
              "    60% {\n",
              "      border-color: transparent;\n",
              "      border-right-color: var(--fill-color);\n",
              "    }\n",
              "    80% {\n",
              "      border-color: transparent;\n",
              "      border-right-color: var(--fill-color);\n",
              "      border-bottom-color: var(--fill-color);\n",
              "    }\n",
              "    90% {\n",
              "      border-color: transparent;\n",
              "      border-bottom-color: var(--fill-color);\n",
              "    }\n",
              "  }\n",
              "</style>\n",
              "\n",
              "      <script>\n",
              "        async function quickchart(key) {\n",
              "          const quickchartButtonEl =\n",
              "            document.querySelector('#' + key + ' button');\n",
              "          quickchartButtonEl.disabled = true;  // To prevent multiple clicks.\n",
              "          quickchartButtonEl.classList.add('colab-df-spinner');\n",
              "          try {\n",
              "            const charts = await google.colab.kernel.invokeFunction(\n",
              "                'suggestCharts', [key], {});\n",
              "          } catch (error) {\n",
              "            console.error('Error during call to suggestCharts:', error);\n",
              "          }\n",
              "          quickchartButtonEl.classList.remove('colab-df-spinner');\n",
              "          quickchartButtonEl.classList.add('colab-df-quickchart-complete');\n",
              "        }\n",
              "        (() => {\n",
              "          let quickchartButtonEl =\n",
              "            document.querySelector('#df-139d3d2c-5c0a-4f14-8ca3-617218a31c84 button');\n",
              "          quickchartButtonEl.style.display =\n",
              "            google.colab.kernel.accessAllowed ? 'block' : 'none';\n",
              "        })();\n",
              "      </script>\n",
              "    </div>\n",
              "    </div>\n",
              "  </div>\n"
            ],
            "application/vnd.google.colaboratory.intrinsic+json": {
              "type": "dataframe",
              "summary": "{\n  \"name\": \"df[cols]\",\n  \"rows\": 3,\n  \"fields\": [\n    {\n      \"column\": \"index\",\n      \"properties\": {\n        \"dtype\": \"string\",\n        \"num_unique_values\": 3,\n        \"samples\": [\n          \"is_apartment\",\n          \"studio\",\n          \"open_plan\"\n        ],\n        \"semantic_type\": \"\",\n        \"description\": \"\"\n      }\n    },\n    {\n      \"column\": 0,\n      \"properties\": {\n        \"dtype\": \"number\",\n        \"std\": 12080,\n        \"min\": 2775,\n        \"max\": 23699,\n        \"num_unique_values\": 2,\n        \"samples\": [\n          23699,\n          2775\n        ],\n        \"semantic_type\": \"\",\n        \"description\": \"\"\n      }\n    }\n  ]\n}"
            }
          },
          "metadata": {},
          "execution_count": 6
        }
      ]
    },
    {
      "cell_type": "markdown",
      "source": [
        "Можем заметить, что данных является ли квартира апартаментами или нет слишком мало. Кроме того, в наших данных практически нет апартаментов и квартир со свободной планировкой, использовать эти 2 колонки для анализа нет смысла, даже если какая-то зависимость есть, то тестировать на 50-60 наблюдениях довольно бессмысленно"
      ],
      "metadata": {
        "id": "0Eq5uW8hCWRf"
      }
    },
    {
      "cell_type": "code",
      "source": [
        "len(df[df['studio'] == 1])\n",
        "print(f\"Количество квартир - студий: {len(df[df['studio'] == 1])}\")\n",
        "print(f\"Количество квартир - апартаментов: {len(df[df['is_apartment'] == 1])}\")\n",
        "print(f\"Количество квартир со свободной планировкой: {len(df[df['open_plan'] == 1])}\")"
      ],
      "metadata": {
        "colab": {
          "base_uri": "https://localhost:8080/"
        },
        "id": "SH9_WsxUAVhI",
        "outputId": "54dd3162-2994-43c4-e25c-285d1c632642"
      },
      "execution_count": 7,
      "outputs": [
        {
          "output_type": "stream",
          "name": "stdout",
          "text": [
            "Количество квартир - студий: 149\n",
            "Количество квартир - апартаментов: 50\n",
            "Количество квартир со свободной планировкой: 67\n"
          ]
        }
      ]
    },
    {
      "cell_type": "code",
      "execution_count": 8,
      "metadata": {
        "id": "BsV4SUyX9btb"
      },
      "outputs": [],
      "source": [
        "columns_to_del = ['is_apartment', 'open_plan']\n",
        "df = df[[col for col in df.columns if col not in columns_to_del]]"
      ]
    },
    {
      "cell_type": "markdown",
      "source": [
        "Заполним пропущенные значения ceiling_height с помощью медианного значения"
      ],
      "metadata": {
        "id": "-4-WBaQ9TpLq"
      }
    },
    {
      "cell_type": "code",
      "source": [
        "df['ceiling_height'] = df['ceiling_height'].fillna(df['ceiling_height'].median())"
      ],
      "metadata": {
        "id": "O8qP_wCFUD1Q"
      },
      "execution_count": 9,
      "outputs": []
    },
    {
      "cell_type": "markdown",
      "source": [
        "Добавим столбец с датой снятия публикации (дата публикации + время, которое продержалась публикация), годом и месяцем снятия публикации (пригодится при сравнении цен, так как иначе мы игнорируем влияние инфляции и сезонность)\n",
        "\n",
        "Также заменим столбец с датой и временем только на дату"
      ],
      "metadata": {
        "id": "RSiIvbSYUdAf"
      }
    },
    {
      "cell_type": "code",
      "source": [
        "df['first_day_exposition'] = pd.to_datetime(df['first_day_exposition'])\n",
        "df['last_day_exposition'] = df['first_day_exposition'] + pd.to_timedelta(df['days_exposition'], unit='D')\n",
        "df['last_year_exposition'] = df['last_day_exposition'].dt.year\n",
        "df['last_month_exposition'] = df['last_day_exposition'].dt.month\n",
        "\n",
        "min_first = df['first_day_exposition'].min().strftime(\"%Y-%m-%d\")\n",
        "max_first = df['first_day_exposition'].max().strftime(\"%Y-%m-%d\")\n",
        "min_last = df['last_day_exposition'].min().strftime(\"%Y-%m-%d\")\n",
        "max_last = df['last_day_exposition'].max().strftime(\"%Y-%m-%d\")\n",
        "\n",
        "print(f'Объявления публиковались в период с {min_first} по {max_first}')\n",
        "print(f'Объявления снимались с публикации в период с {min_last} по {max_last}')\n",
        "print(f'Данные предоставлены с {min(min_first, min_last)} по {max(max_first, max_last)}')"
      ],
      "metadata": {
        "colab": {
          "base_uri": "https://localhost:8080/"
        },
        "id": "p_mmQ4bPSJyo",
        "outputId": "97b08250-5d19-46f0-cdfa-58ec19d26994"
      },
      "execution_count": 10,
      "outputs": [
        {
          "output_type": "stream",
          "name": "stdout",
          "text": [
            "Объявления публиковались в период с 2014-11-27 по 2019-05-03\n",
            "Объявления снимались с публикации в период с 2016-06-16 по 2019-05-02\n",
            "Данные предоставлены с 2014-11-27 по 2019-05-03\n"
          ]
        }
      ]
    },
    {
      "cell_type": "markdown",
      "source": [
        "Дубликатов в датафрейме нет\n",
        "\n"
      ],
      "metadata": {
        "id": "IFZsLgibkyM2"
      }
    },
    {
      "cell_type": "code",
      "source": [
        "n_dup = len(df[df.duplicated(keep=False)])\n",
        "print(f'Количество дубликатов: {n_dup}')"
      ],
      "metadata": {
        "colab": {
          "base_uri": "https://localhost:8080/"
        },
        "id": "VE0WcMCOlBg8",
        "outputId": "69b22c73-fcf4-4133-b3e8-668e62009f7c"
      },
      "execution_count": 11,
      "outputs": [
        {
          "output_type": "stream",
          "name": "stdout",
          "text": [
            "Количество дубликатов: 0\n"
          ]
        }
      ]
    },
    {
      "cell_type": "markdown",
      "source": [
        "Определим выбросы и избавимся от них"
      ],
      "metadata": {
        "id": "3DjpzV6tpAqw"
      }
    },
    {
      "cell_type": "code",
      "source": [
        "plt.figure(figsize=(9, 6))\n",
        "sns.boxplot(x=df['last_price'],\n",
        "    palette=\"Set2\",\n",
        "    linewidth=1.5,\n",
        "    fliersize=5,\n",
        "    notch=True)\n",
        "plt.xscale('log')\n",
        "plt.title('Выбросы по цене')\n",
        "plt.xlabel('Цена на момент снятия публикации')\n",
        "plt.show()\n",
        "\n",
        "quantiles_price = np.quantile(df['last_price'], [0.01, 0.99])\n",
        "print(f'1% квантиль: {quantiles_price[0]}, 99% квантиль: {quantiles_price[1]}')"
      ],
      "metadata": {
        "colab": {
          "base_uri": "https://localhost:8080/",
          "height": 586
        },
        "id": "7qDW2rfJo1MD",
        "outputId": "fe93808c-30d8-41d3-a6a2-2599e0a37f52"
      },
      "execution_count": 12,
      "outputs": [
        {
          "output_type": "display_data",
          "data": {
            "text/plain": [
              "<Figure size 900x600 with 1 Axes>"
            ],
            "image/png": "[encoded data removed]"
          },
          "metadata": {}
        },
        {
          "output_type": "stream",
          "name": "stdout",
          "text": [
            "1% квантиль: 1000000.0, 99% квантиль: 36000000.0\n"
          ]
        }
      ]
    },
    {
      "cell_type": "markdown",
      "source": [
        "Наверно, можно представить себе квартиру, стоящую меньше 1 млн рублей, но это скорее исключение, чем правило, и такие квартиры можно считать выбросами, как и слишком дорогие. Последние могут искажать статистику по выручке и такие сделки случаются довольно редко. Поэтому, оставим данные по квартирам с ценой от 1 млн до 36 млн, остальное удалим."
      ],
      "metadata": {
        "id": "v2XnHcmXtQhe"
      }
    },
    {
      "cell_type": "code",
      "source": [
        "df = df[(df['last_price'] <= quantiles_price[1]) & (df['last_price'] >= quantiles_price[0])]"
      ],
      "metadata": {
        "id": "tbYRp-pQuCb4"
      },
      "execution_count": 13,
      "outputs": []
    },
    {
      "cell_type": "markdown",
      "source": [
        "Сделаем аналогичное по расстоянию от центра города"
      ],
      "metadata": {
        "id": "2oeTWvXSuVA0"
      }
    },
    {
      "cell_type": "code",
      "source": [
        "plt.figure(figsize=(9, 6))\n",
        "sns.boxplot(x=df['cityCenters_nearest'],\n",
        "    palette=\"Set2\",\n",
        "    linewidth=1.5,\n",
        "    fliersize=5,\n",
        "    notch=True)\n",
        "plt.title('Выбросы по расстоянию до центра города')\n",
        "plt.xlabel('Расстояние до центра города')\n",
        "plt.show()\n",
        "\n",
        "quantile_city = np.quantile(df['cityCenters_nearest'].dropna(), 0.99)\n",
        "print(quantile_city)"
      ],
      "metadata": {
        "colab": {
          "base_uri": "https://localhost:8080/",
          "height": 581
        },
        "id": "xe9PooPTuZ5f",
        "outputId": "30c1e9f1-75bb-4ee6-e793-782e24f7a34a"
      },
      "execution_count": 14,
      "outputs": [
        {
          "output_type": "display_data",
          "data": {
            "text/plain": [
              "<Figure size 900x600 with 1 Axes>"
            ],
            "image/png": "[encoded data removed]"
          },
          "metadata": {}
        },
        {
          "output_type": "stream",
          "name": "stdout",
          "text": [
            "50096.41999999993\n"
          ]
        }
      ]
    },
    {
      "cell_type": "markdown",
      "source": [
        "По той же логике удалим данные с расстоянием до центра города выше 50 км. Это отдаленные поселки, которые могут искажать результаты"
      ],
      "metadata": {
        "id": "QsT-v0bowVxP"
      }
    },
    {
      "cell_type": "code",
      "source": [
        "df = df[df['cityCenters_nearest'].replace(np.nan, 0) <= quantile_city]"
      ],
      "metadata": {
        "id": "AuaDMhAhxEse"
      },
      "execution_count": 15,
      "outputs": []
    },
    {
      "cell_type": "markdown",
      "source": [
        "В таблице df.describe можно было заметить, что у нас есть квартира с высотой потолка в 100 метров, что явно указывает на ошибочность данных, от таких строк надо избавится"
      ],
      "metadata": {
        "id": "oXZMZ_IJ6Bit"
      }
    },
    {
      "cell_type": "code",
      "source": [
        "len(df[df['ceiling_height'] > 4])  # примем за критическое значение высоту потолка в 4 метра"
      ],
      "metadata": {
        "colab": {
          "base_uri": "https://localhost:8080/"
        },
        "id": "DAMaxELX6A1q",
        "outputId": "a53a77a4-15c9-4921-9bcb-aba8c6e1e3f4"
      },
      "execution_count": 16,
      "outputs": [
        {
          "output_type": "execute_result",
          "data": {
            "text/plain": [
              "58"
            ]
          },
          "metadata": {},
          "execution_count": 16
        }
      ]
    },
    {
      "cell_type": "code",
      "source": [
        "df = df[df['ceiling_height'] <= 4]"
      ],
      "metadata": {
        "id": "hC9k5dfa7Ngv"
      },
      "execution_count": 17,
      "outputs": []
    },
    {
      "cell_type": "markdown",
      "source": [
        "Подозрительно выглядят и квартиры с 0 комнат, таких 57, избавимся от них\n"
      ],
      "metadata": {
        "id": "DvzRyiK09o7p"
      }
    },
    {
      "cell_type": "code",
      "source": [
        "print(f\"Всего квартир не студий с 0 комнат: {len(df[(df['rooms'] == 0) & (df['studio'] == 0)])}\")\n",
        "df = df[(df['rooms'] != 0) | (df['studio'] == 1)]"
      ],
      "metadata": {
        "colab": {
          "base_uri": "https://localhost:8080/"
        },
        "id": "ZTidjQ5h7gOZ",
        "outputId": "ad2ed1c9-822f-4852-b8d9-bf3296c4acd8"
      },
      "execution_count": 18,
      "outputs": [
        {
          "output_type": "stream",
          "name": "stdout",
          "text": [
            "Всего квартир не студий с 0 комнат: 57\n"
          ]
        }
      ]
    },
    {
      "cell_type": "markdown",
      "source": [
        "Еще ошибками являются объявления, где расстояние до близжайшего пруда/парка всего несколько метров, такое вряд ли возможно, избавимся от таких данных (82 строчки)"
      ],
      "metadata": {
        "id": "VTpqSniKLOzK"
      }
    },
    {
      "cell_type": "code",
      "source": [
        "print(f\"Количество квартир с расстоянием до пруда/парка менее 20 метров: {len(df[(df['parks_nearest'] <= 20) | (df['ponds_nearest'] <= 20)])}\")  # примем 20 за критическое значение\n",
        "df = df[(df['parks_nearest'].fillna(30) > 20) & (df['ponds_nearest'].fillna(30) > 20)]"
      ],
      "metadata": {
        "colab": {
          "base_uri": "https://localhost:8080/"
        },
        "id": "8tMrnPhaLiaL",
        "outputId": "ba1245b9-7cec-4aa4-c6ad-20f6388a55b7"
      },
      "execution_count": 19,
      "outputs": [
        {
          "output_type": "stream",
          "name": "stdout",
          "text": [
            "Количество квартир с расстоянием до пруда/парка менее 20 метров: 82\n"
          ]
        }
      ]
    },
    {
      "cell_type": "code",
      "source": [
        "print(f'Избавились от {round((23699 - len(df)) * 100 / 23699, 2)} % данных')"
      ],
      "metadata": {
        "colab": {
          "base_uri": "https://localhost:8080/"
        },
        "id": "1RpEikCrDUR-",
        "outputId": "4052f0d1-4913-4ec0-b820-068bc6b77e2c"
      },
      "execution_count": 20,
      "outputs": [
        {
          "output_type": "stream",
          "name": "stdout",
          "text": [
            "Избавились от 3.54 % данных\n"
          ]
        }
      ]
    },
    {
      "cell_type": "markdown",
      "source": [
        "Итого, мы избавились от **3,54%** данных, которые с высокой вероятностью были некорректны, неточны или были выбросами. Это невысокое значения, так что теперь можем получше присмотреться к самим данным и распределению квартир"
      ],
      "metadata": {
        "id": "M6jGaeiMGI_F"
      }
    },
    {
      "cell_type": "markdown",
      "metadata": {
        "id": "qg_jbx9k9btb"
      },
      "source": [
        "## Анализ данных"
      ]
    },
    {
      "cell_type": "markdown",
      "metadata": {
        "id": "38Y4Zqeo9btc"
      },
      "source": [
        "(небольшая подсказка под многие признаки здесь подойдёт корреляционный анализ по Пирсону)\n",
        "Советую рассмотреть как можно больше фичей и построить больше гипотез из стека пользуйтесь ttest и z-тест.\n"
      ]
    },
    {
      "cell_type": "markdown",
      "source": [
        "Посмотрим на распределение квартир по населенным пунктам. Можем понять, что все эти поселения находятся в Ленинградской области, а доля публикаций объявлений квартир в Санкт-Петербурге превышает 65%"
      ],
      "metadata": {
        "id": "LMkraziZocxA"
      }
    },
    {
      "cell_type": "code",
      "source": [
        "abs_loc = df['locality_name'].value_counts()\n",
        "rel_loc = np.round(df['locality_name'].value_counts(normalize=True)*100, 2)\n",
        "res = pd.concat([abs_loc, rel_loc], axis=1).reset_index()\n",
        "res"
      ],
      "metadata": {
        "colab": {
          "base_uri": "https://localhost:8080/",
          "height": 423
        },
        "id": "SZVGqgwWniMj",
        "outputId": "c2f3ad70-76a7-4cb9-d644-fcd84fee6206"
      },
      "execution_count": 21,
      "outputs": [
        {
          "output_type": "execute_result",
          "data": {
            "text/plain": [
              "                 locality_name  count  proportion\n",
              "0              Санкт-Петербург  15345       67.27\n",
              "1               посёлок Мурино    514        2.25\n",
              "2               посёлок Шушары    440        1.93\n",
              "3                   Всеволожск    396        1.74\n",
              "4                       Пушкин    362        1.59\n",
              "..                         ...    ...         ...\n",
              "325        поселок Дружноселье      1        0.00\n",
              "326                  село Паша      1        0.00\n",
              "327  коттеджный посёлок Лесное      1        0.00\n",
              "328     деревня Борисова Грива      1        0.00\n",
              "329       посёлок Дзержинского      1        0.00\n",
              "\n",
              "[330 rows x 3 columns]"
            ],
            "text/html": [
              "\n",
              "  <div id=\"df-afa21897-8e06-4f36-bbb0-0213f054bb9f\" class=\"colab-df-container\">\n",
              "    <div>\n",
              "<style scoped>\n",
              "    .dataframe tbody tr th:only-of-type {\n",
              "        vertical-align: middle;\n",
              "    }\n",
              "\n",
              "    .dataframe tbody tr th {\n",
              "        vertical-align: top;\n",
              "    }\n",
              "\n",
              "    .dataframe thead th {\n",
              "        text-align: right;\n",
              "    }\n",
              "</style>\n",
              "<table border=\"1\" class=\"dataframe\">\n",
              "  <thead>\n",
              "    <tr style=\"text-align: right;\">\n",
              "      <th></th>\n",
              "      <th>locality_name</th>\n",
              "      <th>count</th>\n",
              "      <th>proportion</th>\n",
              "    </tr>\n",
              "  </thead>\n",
              "  <tbody>\n",
              "    <tr>\n",
              "      <th>0</th>\n",
              "      <td>Санкт-Петербург</td>\n",
              "      <td>15345</td>\n",
              "      <td>67.27</td>\n",
              "    </tr>\n",
              "    <tr>\n",
              "      <th>1</th>\n",
              "      <td>посёлок Мурино</td>\n",
              "      <td>514</td>\n",
              "      <td>2.25</td>\n",
              "    </tr>\n",
              "    <tr>\n",
              "      <th>2</th>\n",
              "      <td>посёлок Шушары</td>\n",
              "      <td>440</td>\n",
              "      <td>1.93</td>\n",
              "    </tr>\n",
              "    <tr>\n",
              "      <th>3</th>\n",
              "      <td>Всеволожск</td>\n",
              "      <td>396</td>\n",
              "      <td>1.74</td>\n",
              "    </tr>\n",
              "    <tr>\n",
              "      <th>4</th>\n",
              "      <td>Пушкин</td>\n",
              "      <td>362</td>\n",
              "      <td>1.59</td>\n",
              "    </tr>\n",
              "    <tr>\n",
              "      <th>...</th>\n",
              "      <td>...</td>\n",
              "      <td>...</td>\n",
              "      <td>...</td>\n",
              "    </tr>\n",
              "    <tr>\n",
              "      <th>325</th>\n",
              "      <td>поселок Дружноселье</td>\n",
              "      <td>1</td>\n",
              "      <td>0.00</td>\n",
              "    </tr>\n",
              "    <tr>\n",
              "      <th>326</th>\n",
              "      <td>село Паша</td>\n",
              "      <td>1</td>\n",
              "      <td>0.00</td>\n",
              "    </tr>\n",
              "    <tr>\n",
              "      <th>327</th>\n",
              "      <td>коттеджный посёлок Лесное</td>\n",
              "      <td>1</td>\n",
              "      <td>0.00</td>\n",
              "    </tr>\n",
              "    <tr>\n",
              "      <th>328</th>\n",
              "      <td>деревня Борисова Грива</td>\n",
              "      <td>1</td>\n",
              "      <td>0.00</td>\n",
              "    </tr>\n",
              "    <tr>\n",
              "      <th>329</th>\n",
              "      <td>посёлок Дзержинского</td>\n",
              "      <td>1</td>\n",
              "      <td>0.00</td>\n",
              "    </tr>\n",
              "  </tbody>\n",
              "</table>\n",
              "<p>330 rows × 3 columns</p>\n",
              "</div>\n",
              "    <div class=\"colab-df-buttons\">\n",
              "\n",
              "  <div class=\"colab-df-container\">\n",
              "    <button class=\"colab-df-convert\" onclick=\"convertToInteractive('df-afa21897-8e06-4f36-bbb0-0213f054bb9f')\"\n",
              "            title=\"Convert this dataframe to an interactive table.\"\n",
              "            style=\"display:none;\">\n",
              "\n",
              "  <svg xmlns=\"http://www.w3.org/2000/svg\" height=\"24px\" viewBox=\"0 -960 960 960\">\n",
              "    <path d=\"M120-120v-720h720v720H120Zm60-500h600v-160H180v160Zm220 220h160v-160H400v160Zm0 220h160v-160H400v160ZM180-400h160v-160H180v160Zm440 0h160v-160H620v160ZM180-180h160v-160H180v160Zm440 0h160v-160H620v160Z\"/>\n",
              "  </svg>\n",
              "    </button>\n",
              "\n",
              "  <style>\n",
              "    .colab-df-container {\n",
              "      display:flex;\n",
              "      gap: 12px;\n",
              "    }\n",
              "\n",
              "    .colab-df-convert {\n",
              "      background-color: #E8F0FE;\n",
              "      border: none;\n",
              "      border-radius: 50%;\n",
              "      cursor: pointer;\n",
              "      display: none;\n",
              "      fill: #1967D2;\n",
              "      height: 32px;\n",
              "      padding: 0 0 0 0;\n",
              "      width: 32px;\n",
              "    }\n",
              "\n",
              "    .colab-df-convert:hover {\n",
              "      background-color: #E2EBFA;\n",
              "      box-shadow: 0px 1px 2px rgba(60, 64, 67, 0.3), 0px 1px 3px 1px rgba(60, 64, 67, 0.15);\n",
              "      fill: #174EA6;\n",
              "    }\n",
              "\n",
              "    .colab-df-buttons div {\n",
              "      margin-bottom: 4px;\n",
              "    }\n",
              "\n",
              "    [theme=dark] .colab-df-convert {\n",
              "      background-color: #3B4455;\n",
              "      fill: #D2E3FC;\n",
              "    }\n",
              "\n",
              "    [theme=dark] .colab-df-convert:hover {\n",
              "      background-color: #434B5C;\n",
              "      box-shadow: 0px 1px 3px 1px rgba(0, 0, 0, 0.15);\n",
              "      filter: drop-shadow(0px 1px 2px rgba(0, 0, 0, 0.3));\n",
              "      fill: #FFFFFF;\n",
              "    }\n",
              "  </style>\n",
              "\n",
              "    <script>\n",
              "      const buttonEl =\n",
              "        document.querySelector('#df-afa21897-8e06-4f36-bbb0-0213f054bb9f button.colab-df-convert');\n",
              "      buttonEl.style.display =\n",
              "        google.colab.kernel.accessAllowed ? 'block' : 'none';\n",
              "\n",
              "      async function convertToInteractive(key) {\n",
              "        const element = document.querySelector('#df-afa21897-8e06-4f36-bbb0-0213f054bb9f');\n",
              "        const dataTable =\n",
              "          await google.colab.kernel.invokeFunction('convertToInteractive',\n",
              "                                                    [key], {});\n",
              "        if (!dataTable) return;\n",
              "\n",
              "        const docLinkHtml = 'Like what you see? Visit the ' +\n",
              "          '<a target=\"_blank\" href=https://colab.research.google.com/notebooks/data_table.ipynb>data table notebook</a>'\n",
              "          + ' to learn more about interactive tables.';\n",
              "        element.innerHTML = '';\n",
              "        dataTable['output_type'] = 'display_data';\n",
              "        await google.colab.output.renderOutput(dataTable, element);\n",
              "        const docLink = document.createElement('div');\n",
              "        docLink.innerHTML = docLinkHtml;\n",
              "        element.appendChild(docLink);\n",
              "      }\n",
              "    </script>\n",
              "  </div>\n",
              "\n",
              "\n",
              "    <div id=\"df-a1f2d0c7-63db-4bed-94d7-ef9c711c70b7\">\n",
              "      <button class=\"colab-df-quickchart\" onclick=\"quickchart('df-a1f2d0c7-63db-4bed-94d7-ef9c711c70b7')\"\n",
              "                title=\"Suggest charts\"\n",
              "                style=\"display:none;\">\n",
              "\n",
              "<svg xmlns=\"http://www.w3.org/2000/svg\" height=\"24px\"viewBox=\"0 0 24 24\"\n",
              "     width=\"24px\">\n",
              "    <g>\n",
              "        <path d=\"M19 3H5c-1.1 0-2 .9-2 2v14c0 1.1.9 2 2 2h14c1.1 0 2-.9 2-2V5c0-1.1-.9-2-2-2zM9 17H7v-7h2v7zm4 0h-2V7h2v10zm4 0h-2v-4h2v4z\"/>\n",
              "    </g>\n",
              "</svg>\n",
              "      </button>\n",
              "\n",
              "<style>\n",
              "  .colab-df-quickchart {\n",
              "      --bg-color: #E8F0FE;\n",
              "      --fill-color: #1967D2;\n",
              "      --hover-bg-color: #E2EBFA;\n",
              "      --hover-fill-color: #174EA6;\n",
              "      --disabled-fill-color: #AAA;\n",
              "      --disabled-bg-color: #DDD;\n",
              "  }\n",
              "\n",
              "  [theme=dark] .colab-df-quickchart {\n",
              "      --bg-color: #3B4455;\n",
              "      --fill-color: #D2E3FC;\n",
              "      --hover-bg-color: #434B5C;\n",
              "      --hover-fill-color: #FFFFFF;\n",
              "      --disabled-bg-color: #3B4455;\n",
              "      --disabled-fill-color: #666;\n",
              "  }\n",
              "\n",
              "  .colab-df-quickchart {\n",
              "    background-color: var(--bg-color);\n",
              "    border: none;\n",
              "    border-radius: 50%;\n",
              "    cursor: pointer;\n",
              "    display: none;\n",
              "    fill: var(--fill-color);\n",
              "    height: 32px;\n",
              "    padding: 0;\n",
              "    width: 32px;\n",
              "  }\n",
              "\n",
              "  .colab-df-quickchart:hover {\n",
              "    background-color: var(--hover-bg-color);\n",
              "    box-shadow: 0 1px 2px rgba(60, 64, 67, 0.3), 0 1px 3px 1px rgba(60, 64, 67, 0.15);\n",
              "    fill: var(--button-hover-fill-color);\n",
              "  }\n",
              "\n",
              "  .colab-df-quickchart-complete:disabled,\n",
              "  .colab-df-quickchart-complete:disabled:hover {\n",
              "    background-color: var(--disabled-bg-color);\n",
              "    fill: var(--disabled-fill-color);\n",
              "    box-shadow: none;\n",
              "  }\n",
              "\n",
              "  .colab-df-spinner {\n",
              "    border: 2px solid var(--fill-color);\n",
              "    border-color: transparent;\n",
              "    border-bottom-color: var(--fill-color);\n",
              "    animation:\n",
              "      spin 1s steps(1) infinite;\n",
              "  }\n",
              "\n",
              "  @keyframes spin {\n",
              "    0% {\n",
              "      border-color: transparent;\n",
              "      border-bottom-color: var(--fill-color);\n",
              "      border-left-color: var(--fill-color);\n",
              "    }\n",
              "    20% {\n",
              "      border-color: transparent;\n",
              "      border-left-color: var(--fill-color);\n",
              "      border-top-color: var(--fill-color);\n",
              "    }\n",
              "    30% {\n",
              "      border-color: transparent;\n",
              "      border-left-color: var(--fill-color);\n",
              "      border-top-color: var(--fill-color);\n",
              "      border-right-color: var(--fill-color);\n",
              "    }\n",
              "    40% {\n",
              "      border-color: transparent;\n",
              "      border-right-color: var(--fill-color);\n",
              "      border-top-color: var(--fill-color);\n",
              "    }\n",
              "    60% {\n",
              "      border-color: transparent;\n",
              "      border-right-color: var(--fill-color);\n",
              "    }\n",
              "    80% {\n",
              "      border-color: transparent;\n",
              "      border-right-color: var(--fill-color);\n",
              "      border-bottom-color: var(--fill-color);\n",
              "    }\n",
              "    90% {\n",
              "      border-color: transparent;\n",
              "      border-bottom-color: var(--fill-color);\n",
              "    }\n",
              "  }\n",
              "</style>\n",
              "\n",
              "      <script>\n",
              "        async function quickchart(key) {\n",
              "          const quickchartButtonEl =\n",
              "            document.querySelector('#' + key + ' button');\n",
              "          quickchartButtonEl.disabled = true;  // To prevent multiple clicks.\n",
              "          quickchartButtonEl.classList.add('colab-df-spinner');\n",
              "          try {\n",
              "            const charts = await google.colab.kernel.invokeFunction(\n",
              "                'suggestCharts', [key], {});\n",
              "          } catch (error) {\n",
              "            console.error('Error during call to suggestCharts:', error);\n",
              "          }\n",
              "          quickchartButtonEl.classList.remove('colab-df-spinner');\n",
              "          quickchartButtonEl.classList.add('colab-df-quickchart-complete');\n",
              "        }\n",
              "        (() => {\n",
              "          let quickchartButtonEl =\n",
              "            document.querySelector('#df-a1f2d0c7-63db-4bed-94d7-ef9c711c70b7 button');\n",
              "          quickchartButtonEl.style.display =\n",
              "            google.colab.kernel.accessAllowed ? 'block' : 'none';\n",
              "        })();\n",
              "      </script>\n",
              "    </div>\n",
              "    </div>\n",
              "  </div>\n"
            ],
            "application/vnd.google.colaboratory.intrinsic+json": {
              "type": "dataframe",
              "variable_name": "res",
              "summary": "{\n  \"name\": \"res\",\n  \"rows\": 330,\n  \"fields\": [\n    {\n      \"column\": \"locality_name\",\n      \"properties\": {\n        \"dtype\": \"string\",\n        \"num_unique_values\": 330,\n        \"samples\": [\n          \"\\u0412\\u044b\\u0431\\u043e\\u0440\\u0433\",\n          \"\\u0434\\u0435\\u0440\\u0435\\u0432\\u043d\\u044f \\u041f\\u0430\\u0440\\u0438\\u0446\\u044b\",\n          \"\\u043f\\u043e\\u0441\\u0435\\u043b\\u043e\\u043a \\u0421\\u0435\\u043c\\u0440\\u0438\\u043d\\u043e\"\n        ],\n        \"semantic_type\": \"\",\n        \"description\": \"\"\n      }\n    },\n    {\n      \"column\": \"count\",\n      \"properties\": {\n        \"dtype\": \"number\",\n        \"std\": 845,\n        \"min\": 1,\n        \"max\": 15345,\n        \"num_unique_values\": 62,\n        \"samples\": [\n          12,\n          6,\n          15345\n        ],\n        \"semantic_type\": \"\",\n        \"description\": \"\"\n      }\n    },\n    {\n      \"column\": \"proportion\",\n      \"properties\": {\n        \"dtype\": \"number\",\n        \"std\": 3.708314114511996,\n        \"min\": 0.0,\n        \"max\": 67.27,\n        \"num_unique_values\": 50,\n        \"samples\": [\n          0.76,\n          0.1,\n          0.21\n        ],\n        \"semantic_type\": \"\",\n        \"description\": \"\"\n      }\n    }\n  ]\n}"
            }
          },
          "metadata": {},
          "execution_count": 21
        }
      ]
    },
    {
      "cell_type": "markdown",
      "source": [
        "Добавим новую колонку: является ли поселение городом или нет"
      ],
      "metadata": {
        "id": "D5nR7vdKP2dB"
      }
    },
    {
      "cell_type": "code",
      "source": [
        "key_words = ['поселок', \"посёлок\", \"село\", \"деревня\",  \"товарищество\"]\n",
        "def determine_type(col, key_words):\n",
        "    if pd.isna(col):\n",
        "        return np.nan\n",
        "    elif any([(word in col.lower()) for word in key_words]):\n",
        "        return 'за городом'\n",
        "    else:\n",
        "        return 'город'\n",
        "\n",
        "df['type_locality'] = df['locality_name'].apply(lambda x: determine_type(x, key_words))\n",
        "print(f\"Количество объявлений квартир в городе: {len(df[df['type_locality'] == 'город'])}\")\n",
        "print(f\"Количество объявлений квартир за городом: {len(df[df['type_locality'] == 'за городом'])}\")"
      ],
      "metadata": {
        "colab": {
          "base_uri": "https://localhost:8080/"
        },
        "id": "YJGzSrOJM85U",
        "outputId": "f4b12b74-4938-4615-9d4c-187cb111dee2"
      },
      "execution_count": 22,
      "outputs": [
        {
          "output_type": "stream",
          "name": "stdout",
          "text": [
            "Количество объявлений квартир в городе: 19116\n",
            "Количество объявлений квартир за городом: 3696\n"
          ]
        }
      ]
    },
    {
      "cell_type": "markdown",
      "source": [
        "Посмотрим на распределения количества фотографий на публикации"
      ],
      "metadata": {
        "id": "C_s_z22-f5i8"
      }
    },
    {
      "cell_type": "code",
      "source": [
        "df_images = df['total_images'].value_counts().reset_index().sort_values(by='total_images')\n",
        "\n",
        "color = sns.color_palette(\"Set2\")[0]\n",
        "plt.figure(figsize=(12, 8))\n",
        "sns.barplot(data=df_images, x='total_images', y='count', color=color, edgecolor='black')\n",
        "plt.xlabel('Количество фотографий')\n",
        "plt.ylabel('Число публикаций')\n",
        "plt.show()\n",
        "\n",
        "print(f\"Количество публикаций с более чем 20 объявлениями: {df_images[df_images['total_images'] > 20]['count'].sum()}\")"
      ],
      "metadata": {
        "colab": {
          "base_uri": "https://localhost:8080/",
          "height": 713
        },
        "id": "3tuHu_GTegLh",
        "outputId": "d24da96b-eb36-41ea-9b8a-3c22dee86d91"
      },
      "execution_count": 23,
      "outputs": [
        {
          "output_type": "display_data",
          "data": {
            "text/plain": [
              "<Figure size 1200x800 with 1 Axes>"
            ],
            "image/png": "[encoded data removed]"
          },
          "metadata": {}
        },
        {
          "output_type": "stream",
          "name": "stdout",
          "text": [
            "Количество публикаций с более чем 20 объявлениями: 73\n"
          ]
        }
      ]
    },
    {
      "cell_type": "markdown",
      "source": [
        "Количество публикаций с более чем 20 фотографий ничтожно мало, возможно это какие-то ограничения сервиса по размещению объявлений\n",
        "\n",
        "Не считая границ, распределение напоминает нормальное"
      ],
      "metadata": {
        "id": "jESNf5Ywje0d"
      }
    },
    {
      "cell_type": "markdown",
      "source": [
        "Теперь посмотрим, как менялась цена на квартиры по годам, а также взглянем на популярность продаж в каждый месяц"
      ],
      "metadata": {
        "id": "dn6I1HTYCFN_"
      }
    },
    {
      "cell_type": "code",
      "execution_count": 24,
      "metadata": {
        "id": "p--5JEuX9btc",
        "colab": {
          "base_uri": "https://localhost:8080/",
          "height": 567
        },
        "outputId": "9f1c3ff5-788e-414f-8170-d98460c468de"
      },
      "outputs": [
        {
          "output_type": "display_data",
          "data": {
            "text/plain": [
              "<Figure size 1200x600 with 2 Axes>"
            ],
            "image/png": "[encoded data removed]"
          },
          "metadata": {}
        }
      ],
      "source": [
        "df_price_date = df.groupby(['last_year_exposition', 'last_month_exposition'])['last_price'].agg(['mean', 'count']).reset_index()\n",
        "df_price_date['date'] = df_price_date['last_year_exposition'].astype('int').astype(str) + '-' + df_price_date['last_month_exposition'].astype('int').astype(str).str.zfill(2)\n",
        "df_price_date = df_price_date[['last_year_exposition', 'last_month_exposition', 'date', 'mean', 'count']]\n",
        "\n",
        "df_price_month = df_price_date.groupby('last_month_exposition')['count'].mean().reset_index().rename(columns={'last_price': 'closed_ad_mean'})\n",
        "df_price_month['last_month_exposition'] = df_price_month['last_month_exposition'].astype('int').astype(str).str.zfill(2)\n",
        "\n",
        "fig, axes = plt.subplots(1, 2, figsize=(12, 6))\n",
        "ax1 = axes[0]\n",
        "ax2 = axes[1]\n",
        "\n",
        "sns.lineplot(data=df_price_date, x='date', y='mean', linewidth=2, color=color, ax=ax1)\n",
        "ax1.set_title('Средняя цена квартиры по месяцам', fontsize=12)\n",
        "ax1.set_xlabel('Дата', fontsize=10)\n",
        "ax1.set_ylabel('Средняя цена, руб. млн', fontsize=10)\n",
        "ax1.set_xticks(df_price_date['date'].to_list()[0:len(df_price_date['date'].to_list()):5])\n",
        "ax1.set_xticklabels(df_price_date['date'].to_list()[0:len(df_price_date['date'].to_list()):5], fontsize=8)\n",
        "\n",
        "sns.barplot(data=df_price_month, x='last_month_exposition', y='count', color=color, edgecolor='black', ax=ax2)\n",
        "ax2.set_title('Среднее количество закрытых объявлений за месяц', fontsize=12)\n",
        "ax2.set_xlabel('Месяц', fontsize=10)\n",
        "ax2.set_ylabel('Среднее количество объявлений', fontsize=10)\n",
        "\n",
        "plt.tight_layout()\n",
        "plt.show()"
      ]
    },
    {
      "cell_type": "markdown",
      "source": [
        "Из графиков можно сделать следующие выводы:\n",
        "\n",
        "*   В конце 2016 - начале 2017 года произошел резкий рост цен на продаваемые квартир\n",
        "*   После спада в 2017 году цены оставались довольно волатильными, но все же заметен небольшой повышательный тренд\n",
        "*   В мае и июне покупают меньше всего квартир, что скорее всего связано с майскими праздниками и июньскими отпусками, а также окончанием учебного года у школьников (родителям не до покупки квартир)\n",
        "*   Пик продаж приходится на апрель\n",
        "\n"
      ],
      "metadata": {
        "id": "lKLvkgm2CaS4"
      }
    },
    {
      "cell_type": "markdown",
      "source": [
        "### Корреляционный анализ\n",
        "Проанализируем влияние признаков друг на друга с помощью корреляционного анализа Пирсона"
      ],
      "metadata": {
        "id": "FUSb7N9kFXHw"
      }
    },
    {
      "cell_type": "code",
      "source": [
        "plt.figure(figsize=(10, 8))\n",
        "corr_matrix = df.select_dtypes(include='number').corr()\n",
        "filtered_corr = corr_matrix.where(corr_matrix.abs() >= 0.4)  # будем смотреть только на зависимости, где корреляция Пирсона не меньше 0,4\n",
        "\n",
        "mask_self_corr = np.eye(len(filtered_corr)).astype(bool)\n",
        "filtered_no_diag = filtered_corr.mask(mask_self_corr)\n",
        "valid_features = filtered_no_diag.count(axis=1)[filtered_no_diag.count(axis=1) > 0].index\n",
        "filtered_corr = filtered_corr.loc[valid_features, valid_features]\n",
        "\n",
        "sns.heatmap(filtered_corr, annot=True, vmax=1, vmin=-1, cmap='plasma', linewidths=1, linecolor='black')\n",
        "plt.title('Корреляционная матрица (зависимости со значением менее, чем 0.4, отброшены)', fontsize=12)\n",
        "plt.show()"
      ],
      "metadata": {
        "colab": {
          "base_uri": "https://localhost:8080/",
          "height": 840
        },
        "id": "WNUdcDUfFzlI",
        "outputId": "06bb9363-ec20-46a2-8a6b-dae3e94192f0"
      },
      "execution_count": 25,
      "outputs": [
        {
          "output_type": "display_data",
          "data": {
            "text/plain": [
              "<Figure size 1000x800 with 2 Axes>"
            ],
            "image/png": "[encoded data removed]"
          },
          "metadata": {}
        }
      ]
    },
    {
      "cell_type": "markdown",
      "source": [
        "Каких-то необычных корреляций выявить не получилось, основные зависимости:\n",
        "\n",
        "\n",
        "1.   Цена зависит от общей площади, площади кухни и жилой площади квартиры\n",
        "2.   Количество комнат положительно коррелирует с жилой площадью\n",
        "\n"
      ],
      "metadata": {
        "id": "B1v4SWNsoLH_"
      }
    },
    {
      "cell_type": "markdown",
      "source": [
        "### Как зависит время продажи квартиры в городе от обычных ценовых факторов\n",
        "Зависимость цены от таких факторов, как количество комнат, жилая площадь и тд. абсолютно понятна и без АБ тестирования, посмотрим на то, как признаки могут влиять на скорость продажи квартиры с разделением на городские квартиры и загородные. Скорость продажи квартиры хорошо отражает спрос на данный тип недвижимости, поэтому такой анализ может быть очень полезен."
      ],
      "metadata": {
        "id": "QGF7EFwZpMVq"
      }
    },
    {
      "cell_type": "markdown",
      "source": [
        "Распределение далеко от нормального"
      ],
      "metadata": {
        "id": "bK853ikvt_ww"
      }
    },
    {
      "cell_type": "markdown",
      "source": [
        "Посмотрим, как количество комнат (рассмотрим только однушки, двушки и трешки) влияет на время продажи квартиры в городе."
      ],
      "metadata": {
        "id": "iXrL6eCiulbX"
      }
    },
    {
      "cell_type": "code",
      "source": [
        "print('Однокомнатные квартиры:')\n",
        "print('Среднее значение дней до продажи:', df[(df['rooms'] == 1) & (df['type_locality'] == 'город')]['days_exposition'].mean())\n",
        "print('Дисперсия:', np.var(df[(df['rooms'] == 1) & (df['type_locality'] == 'город')]['days_exposition'], ddof=1))\n",
        "print('Среднеквадратичное отклонение:', np.std(df[(df['rooms'] == 1) & (df['type_locality'] == 'город')]['days_exposition'], ddof=1))\n",
        "print('Размер выборки: ', df[(df['rooms'] == 1) & (df['type_locality'] == 'город')]['days_exposition'].count(), end='\\n\\n')\n",
        "\n",
        "print('Двухкомнатные квартиры:')\n",
        "print('Среднее значение дней до продажи:', df[(df['rooms'] == 2) & (df['type_locality'] == 'город')]['days_exposition'].mean())\n",
        "print('Дисперсия:', np.var(df[(df['rooms'] == 2) & (df['type_locality'] == 'город')]['days_exposition'], ddof=1))\n",
        "print('Среднеквадратичное отклонение:', np.std(df[(df['rooms'] == 2) & (df['type_locality'] == 'город')]['days_exposition'], ddof=1))\n",
        "print('Размер выборки: ', df[(df['rooms'] == 2) & (df['type_locality'] == 'город')]['days_exposition'].count(), end='\\n\\n')\n",
        "\n",
        "print('Трехкомнатные квартиры:')\n",
        "print('Среднее значение дней до продажи:', df[(df['rooms'] == 3) & (df['type_locality'] == 'город')]['days_exposition'].mean())\n",
        "print('Дисперсия:', np.var(df[(df['rooms'] == 3) & (df['type_locality'] == 'город')]['days_exposition'], ddof=1))\n",
        "print('Среднеквадратичное отклонение:', np.std(df[(df['rooms'] == 3) & (df['type_locality'] == 'город')]['days_exposition'], ddof=1))\n",
        "print('Размер выборки: ', df[(df['rooms'] == 3) & (df['type_locality'] == 'город')]['days_exposition'].count(), end='\\n\\n')"
      ],
      "metadata": {
        "colab": {
          "base_uri": "https://localhost:8080/"
        },
        "id": "ArvDmaVOwEj_",
        "outputId": "461949fd-bafa-4fc7-ba2e-82255ddd91e8"
      },
      "execution_count": 26,
      "outputs": [
        {
          "output_type": "stream",
          "name": "stdout",
          "text": [
            "Однокомнатные квартиры:\n",
            "Среднее значение дней до продажи: 158.35141933165647\n",
            "Дисперсия: 40377.598315145704\n",
            "Среднеквадратичное отклонение: 200.94177842137682\n",
            "Размер выборки:  5566\n",
            "\n",
            "Двухкомнатные квартиры:\n",
            "Среднее значение дней до продажи: 172.54242424242423\n",
            "Дисперсия: 46894.645106619515\n",
            "Среднеквадратичное отклонение: 216.55171462405815\n",
            "Размер выборки:  5610\n",
            "\n",
            "Трехкомнатные квартиры:\n",
            "Среднее значение дней до продажи: 201.6404576436222\n",
            "Дисперсия: 54181.8271136935\n",
            "Среднеквадратичное отклонение: 232.76990164901798\n",
            "Размер выборки:  4108\n",
            "\n"
          ]
        }
      ]
    },
    {
      "cell_type": "code",
      "source": [
        "group_one = df[(df['rooms'] == 1) & (df['type_locality'] == 'город')]['days_exposition'].dropna()\n",
        "group_two = df[(df['rooms'] == 2) & (df['type_locality'] == 'город')]['days_exposition'].dropna()\n",
        "group_three = df[(df['rooms'] == 3) & (df['type_locality'] == 'город')]['days_exposition'].dropna()\n",
        "\n",
        "df1 = pd.DataFrame({\n",
        "    'days': np.concatenate([group_one, group_two, group_three]),\n",
        "    'group': [1]*len(group_one) + [2]*len(group_two) + [3]*len(group_three)\n",
        "})\n",
        "df1.sample(5)"
      ],
      "metadata": {
        "colab": {
          "base_uri": "https://localhost:8080/",
          "height": 206
        },
        "id": "kLnqGn3ihmSA",
        "outputId": "45d75dc1-66bf-4dcd-f15e-42ac294e6496"
      },
      "execution_count": 27,
      "outputs": [
        {
          "output_type": "execute_result",
          "data": {
            "text/plain": [
              "        days  group\n",
              "2114    23.0      1\n",
              "15088   20.0      3\n",
              "12204  110.0      3\n",
              "13804  261.0      3\n",
              "7484    40.0      2"
            ],
            "text/html": [
              "\n",
              "  <div id=\"df-fce4810a-6346-4b95-9988-d61a0b2d24ec\" class=\"colab-df-container\">\n",
              "    <div>\n",
              "<style scoped>\n",
              "    .dataframe tbody tr th:only-of-type {\n",
              "        vertical-align: middle;\n",
              "    }\n",
              "\n",
              "    .dataframe tbody tr th {\n",
              "        vertical-align: top;\n",
              "    }\n",
              "\n",
              "    .dataframe thead th {\n",
              "        text-align: right;\n",
              "    }\n",
              "</style>\n",
              "<table border=\"1\" class=\"dataframe\">\n",
              "  <thead>\n",
              "    <tr style=\"text-align: right;\">\n",
              "      <th></th>\n",
              "      <th>days</th>\n",
              "      <th>group</th>\n",
              "    </tr>\n",
              "  </thead>\n",
              "  <tbody>\n",
              "    <tr>\n",
              "      <th>2114</th>\n",
              "      <td>23.0</td>\n",
              "      <td>1</td>\n",
              "    </tr>\n",
              "    <tr>\n",
              "      <th>15088</th>\n",
              "      <td>20.0</td>\n",
              "      <td>3</td>\n",
              "    </tr>\n",
              "    <tr>\n",
              "      <th>12204</th>\n",
              "      <td>110.0</td>\n",
              "      <td>3</td>\n",
              "    </tr>\n",
              "    <tr>\n",
              "      <th>13804</th>\n",
              "      <td>261.0</td>\n",
              "      <td>3</td>\n",
              "    </tr>\n",
              "    <tr>\n",
              "      <th>7484</th>\n",
              "      <td>40.0</td>\n",
              "      <td>2</td>\n",
              "    </tr>\n",
              "  </tbody>\n",
              "</table>\n",
              "</div>\n",
              "    <div class=\"colab-df-buttons\">\n",
              "\n",
              "  <div class=\"colab-df-container\">\n",
              "    <button class=\"colab-df-convert\" onclick=\"convertToInteractive('df-fce4810a-6346-4b95-9988-d61a0b2d24ec')\"\n",
              "            title=\"Convert this dataframe to an interactive table.\"\n",
              "            style=\"display:none;\">\n",
              "\n",
              "  <svg xmlns=\"http://www.w3.org/2000/svg\" height=\"24px\" viewBox=\"0 -960 960 960\">\n",
              "    <path d=\"M120-120v-720h720v720H120Zm60-500h600v-160H180v160Zm220 220h160v-160H400v160Zm0 220h160v-160H400v160ZM180-400h160v-160H180v160Zm440 0h160v-160H620v160ZM180-180h160v-160H180v160Zm440 0h160v-160H620v160Z\"/>\n",
              "  </svg>\n",
              "    </button>\n",
              "\n",
              "  <style>\n",
              "    .colab-df-container {\n",
              "      display:flex;\n",
              "      gap: 12px;\n",
              "    }\n",
              "\n",
              "    .colab-df-convert {\n",
              "      background-color: #E8F0FE;\n",
              "      border: none;\n",
              "      border-radius: 50%;\n",
              "      cursor: pointer;\n",
              "      display: none;\n",
              "      fill: #1967D2;\n",
              "      height: 32px;\n",
              "      padding: 0 0 0 0;\n",
              "      width: 32px;\n",
              "    }\n",
              "\n",
              "    .colab-df-convert:hover {\n",
              "      background-color: #E2EBFA;\n",
              "      box-shadow: 0px 1px 2px rgba(60, 64, 67, 0.3), 0px 1px 3px 1px rgba(60, 64, 67, 0.15);\n",
              "      fill: #174EA6;\n",
              "    }\n",
              "\n",
              "    .colab-df-buttons div {\n",
              "      margin-bottom: 4px;\n",
              "    }\n",
              "\n",
              "    [theme=dark] .colab-df-convert {\n",
              "      background-color: #3B4455;\n",
              "      fill: #D2E3FC;\n",
              "    }\n",
              "\n",
              "    [theme=dark] .colab-df-convert:hover {\n",
              "      background-color: #434B5C;\n",
              "      box-shadow: 0px 1px 3px 1px rgba(0, 0, 0, 0.15);\n",
              "      filter: drop-shadow(0px 1px 2px rgba(0, 0, 0, 0.3));\n",
              "      fill: #FFFFFF;\n",
              "    }\n",
              "  </style>\n",
              "\n",
              "    <script>\n",
              "      const buttonEl =\n",
              "        document.querySelector('#df-fce4810a-6346-4b95-9988-d61a0b2d24ec button.colab-df-convert');\n",
              "      buttonEl.style.display =\n",
              "        google.colab.kernel.accessAllowed ? 'block' : 'none';\n",
              "\n",
              "      async function convertToInteractive(key) {\n",
              "        const element = document.querySelector('#df-fce4810a-6346-4b95-9988-d61a0b2d24ec');\n",
              "        const dataTable =\n",
              "          await google.colab.kernel.invokeFunction('convertToInteractive',\n",
              "                                                    [key], {});\n",
              "        if (!dataTable) return;\n",
              "\n",
              "        const docLinkHtml = 'Like what you see? Visit the ' +\n",
              "          '<a target=\"_blank\" href=https://colab.research.google.com/notebooks/data_table.ipynb>data table notebook</a>'\n",
              "          + ' to learn more about interactive tables.';\n",
              "        element.innerHTML = '';\n",
              "        dataTable['output_type'] = 'display_data';\n",
              "        await google.colab.output.renderOutput(dataTable, element);\n",
              "        const docLink = document.createElement('div');\n",
              "        docLink.innerHTML = docLinkHtml;\n",
              "        element.appendChild(docLink);\n",
              "      }\n",
              "    </script>\n",
              "  </div>\n",
              "\n",
              "\n",
              "    <div id=\"df-7da78059-53d8-4a32-9c8d-c367c8ece805\">\n",
              "      <button class=\"colab-df-quickchart\" onclick=\"quickchart('df-7da78059-53d8-4a32-9c8d-c367c8ece805')\"\n",
              "                title=\"Suggest charts\"\n",
              "                style=\"display:none;\">\n",
              "\n",
              "<svg xmlns=\"http://www.w3.org/2000/svg\" height=\"24px\"viewBox=\"0 0 24 24\"\n",
              "     width=\"24px\">\n",
              "    <g>\n",
              "        <path d=\"M19 3H5c-1.1 0-2 .9-2 2v14c0 1.1.9 2 2 2h14c1.1 0 2-.9 2-2V5c0-1.1-.9-2-2-2zM9 17H7v-7h2v7zm4 0h-2V7h2v10zm4 0h-2v-4h2v4z\"/>\n",
              "    </g>\n",
              "</svg>\n",
              "      </button>\n",
              "\n",
              "<style>\n",
              "  .colab-df-quickchart {\n",
              "      --bg-color: #E8F0FE;\n",
              "      --fill-color: #1967D2;\n",
              "      --hover-bg-color: #E2EBFA;\n",
              "      --hover-fill-color: #174EA6;\n",
              "      --disabled-fill-color: #AAA;\n",
              "      --disabled-bg-color: #DDD;\n",
              "  }\n",
              "\n",
              "  [theme=dark] .colab-df-quickchart {\n",
              "      --bg-color: #3B4455;\n",
              "      --fill-color: #D2E3FC;\n",
              "      --hover-bg-color: #434B5C;\n",
              "      --hover-fill-color: #FFFFFF;\n",
              "      --disabled-bg-color: #3B4455;\n",
              "      --disabled-fill-color: #666;\n",
              "  }\n",
              "\n",
              "  .colab-df-quickchart {\n",
              "    background-color: var(--bg-color);\n",
              "    border: none;\n",
              "    border-radius: 50%;\n",
              "    cursor: pointer;\n",
              "    display: none;\n",
              "    fill: var(--fill-color);\n",
              "    height: 32px;\n",
              "    padding: 0;\n",
              "    width: 32px;\n",
              "  }\n",
              "\n",
              "  .colab-df-quickchart:hover {\n",
              "    background-color: var(--hover-bg-color);\n",
              "    box-shadow: 0 1px 2px rgba(60, 64, 67, 0.3), 0 1px 3px 1px rgba(60, 64, 67, 0.15);\n",
              "    fill: var(--button-hover-fill-color);\n",
              "  }\n",
              "\n",
              "  .colab-df-quickchart-complete:disabled,\n",
              "  .colab-df-quickchart-complete:disabled:hover {\n",
              "    background-color: var(--disabled-bg-color);\n",
              "    fill: var(--disabled-fill-color);\n",
              "    box-shadow: none;\n",
              "  }\n",
              "\n",
              "  .colab-df-spinner {\n",
              "    border: 2px solid var(--fill-color);\n",
              "    border-color: transparent;\n",
              "    border-bottom-color: var(--fill-color);\n",
              "    animation:\n",
              "      spin 1s steps(1) infinite;\n",
              "  }\n",
              "\n",
              "  @keyframes spin {\n",
              "    0% {\n",
              "      border-color: transparent;\n",
              "      border-bottom-color: var(--fill-color);\n",
              "      border-left-color: var(--fill-color);\n",
              "    }\n",
              "    20% {\n",
              "      border-color: transparent;\n",
              "      border-left-color: var(--fill-color);\n",
              "      border-top-color: var(--fill-color);\n",
              "    }\n",
              "    30% {\n",
              "      border-color: transparent;\n",
              "      border-left-color: var(--fill-color);\n",
              "      border-top-color: var(--fill-color);\n",
              "      border-right-color: var(--fill-color);\n",
              "    }\n",
              "    40% {\n",
              "      border-color: transparent;\n",
              "      border-right-color: var(--fill-color);\n",
              "      border-top-color: var(--fill-color);\n",
              "    }\n",
              "    60% {\n",
              "      border-color: transparent;\n",
              "      border-right-color: var(--fill-color);\n",
              "    }\n",
              "    80% {\n",
              "      border-color: transparent;\n",
              "      border-right-color: var(--fill-color);\n",
              "      border-bottom-color: var(--fill-color);\n",
              "    }\n",
              "    90% {\n",
              "      border-color: transparent;\n",
              "      border-bottom-color: var(--fill-color);\n",
              "    }\n",
              "  }\n",
              "</style>\n",
              "\n",
              "      <script>\n",
              "        async function quickchart(key) {\n",
              "          const quickchartButtonEl =\n",
              "            document.querySelector('#' + key + ' button');\n",
              "          quickchartButtonEl.disabled = true;  // To prevent multiple clicks.\n",
              "          quickchartButtonEl.classList.add('colab-df-spinner');\n",
              "          try {\n",
              "            const charts = await google.colab.kernel.invokeFunction(\n",
              "                'suggestCharts', [key], {});\n",
              "          } catch (error) {\n",
              "            console.error('Error during call to suggestCharts:', error);\n",
              "          }\n",
              "          quickchartButtonEl.classList.remove('colab-df-spinner');\n",
              "          quickchartButtonEl.classList.add('colab-df-quickchart-complete');\n",
              "        }\n",
              "        (() => {\n",
              "          let quickchartButtonEl =\n",
              "            document.querySelector('#df-7da78059-53d8-4a32-9c8d-c367c8ece805 button');\n",
              "          quickchartButtonEl.style.display =\n",
              "            google.colab.kernel.accessAllowed ? 'block' : 'none';\n",
              "        })();\n",
              "      </script>\n",
              "    </div>\n",
              "    </div>\n",
              "  </div>\n"
            ],
            "application/vnd.google.colaboratory.intrinsic+json": {
              "type": "dataframe",
              "summary": "{\n  \"name\": \"df1\",\n  \"rows\": 5,\n  \"fields\": [\n    {\n      \"column\": \"days\",\n      \"properties\": {\n        \"dtype\": \"number\",\n        \"std\": 101.89062763571535,\n        \"min\": 20.0,\n        \"max\": 261.0,\n        \"num_unique_values\": 5,\n        \"samples\": [\n          20.0,\n          40.0,\n          110.0\n        ],\n        \"semantic_type\": \"\",\n        \"description\": \"\"\n      }\n    },\n    {\n      \"column\": \"group\",\n      \"properties\": {\n        \"dtype\": \"number\",\n        \"std\": 0,\n        \"min\": 1,\n        \"max\": 3,\n        \"num_unique_values\": 3,\n        \"samples\": [\n          1,\n          3,\n          2\n        ],\n        \"semantic_type\": \"\",\n        \"description\": \"\"\n      }\n    }\n  ]\n}"
            }
          },
          "metadata": {},
          "execution_count": 27
        }
      ]
    },
    {
      "cell_type": "code",
      "source": [
        "fig, axes = plt.subplots(1, 3, figsize=(16, 6))\n",
        "\n",
        "for i in range(3):\n",
        "    ax = axes[i]\n",
        "    sns.histplot(data=df1[df1['group'] == i + 1], x='days', stat='density', color=color, ax=ax)\n",
        "    sns.kdeplot(data=df1[df1['group'] == i + 1], x='days', color='red', linewidth=2, ax=ax)\n",
        "    ax.set_ylabel('')\n",
        "    ax.set_xlabel('')\n",
        "\n",
        "fig.suptitle('Распределение времени на продажу одно/двух/трех-комнатных квартир', fontsize=16)\n",
        "fig.supxlabel('Количество дней', fontsize=16)\n",
        "fig.supylabel('Плотность распределения', fontsize=16)\n",
        "plt.show()"
      ],
      "metadata": {
        "colab": {
          "base_uri": "https://localhost:8080/",
          "height": 480
        },
        "id": "Xt1MSRSkzq1E",
        "outputId": "288fbd0c-94e9-4cf1-a2e4-41cd7f206d1b"
      },
      "execution_count": 28,
      "outputs": [
        {
          "output_type": "display_data",
          "data": {
            "text/plain": [
              "<Figure size 1600x600 with 3 Axes>"
            ],
            "image/png": "[encoded data removed]"
          },
          "metadata": {}
        }
      ]
    },
    {
      "cell_type": "markdown",
      "source": [
        "Распределения далеки от нормальных, однако размер нашей выборки около 4000-5000 для каждой группы, что делает нарушение нормальности некритичным, поэтому можем воспользоваться Anova, а затем, если выявим статистически значимые различия между группами, тестом Тьюки, чтобы понять между какими именно группами есть различия"
      ],
      "metadata": {
        "id": "ICYAkKBlTARo"
      }
    },
    {
      "cell_type": "markdown",
      "source": [
        "Выдвинем продуктовые гипотезы:\n",
        "*   $H_0$: среднее количество дней продажи квартиры в городе не зависит от количества комнат\n",
        "*   $H_1$: среднее количество дней продажи отличается для городских квартир с разным количеством комнат\n",
        "\n",
        "\n"
      ],
      "metadata": {
        "id": "ZkoVcHiFydwV"
      }
    },
    {
      "cell_type": "code",
      "source": [
        "from scipy.stats import f_oneway\n",
        "alpha = 0.05\n",
        "f_stat, p_value = f_oneway(\n",
        "    group_one,\n",
        "    group_two,\n",
        "    group_three\n",
        ")\n",
        "\n",
        "print(f\"F-статистика: {f_stat:.4f}, p-value: {p_value:.4f}\")\n",
        "if p_value < alpha:\n",
        "    print('Отвергаем нулевую гипотезу')\n",
        "else:\n",
        "    print('Не можем отвергнуть нулевую гипотезу')"
      ],
      "metadata": {
        "colab": {
          "base_uri": "https://localhost:8080/"
        },
        "id": "llbtPCjKm4MU",
        "outputId": "f202a5a6-361e-40e7-b151-9e74071ff02d"
      },
      "execution_count": 29,
      "outputs": [
        {
          "output_type": "stream",
          "name": "stdout",
          "text": [
            "F-статистика: 48.3173, p-value: 0.0000\n",
            "Отвергаем нулевую гипотезу\n"
          ]
        }
      ]
    },
    {
      "cell_type": "markdown",
      "source": [
        "Для любого разумного уровня значимости отвергаем нулевую гипотезу, теперь применим тест Тьюки, чтобы проверить, что значимые различия есть между всеми группами"
      ],
      "metadata": {
        "id": "agKSQTtUs4WG"
      }
    },
    {
      "cell_type": "code",
      "source": [
        "from statsmodels.stats.multicomp import pairwise_tukeyhsd\n",
        "\n",
        "tukey = pairwise_tukeyhsd(df1['days'], df1['group'], alpha=0.05)\n",
        "print(tukey)"
      ],
      "metadata": {
        "colab": {
          "base_uri": "https://localhost:8080/"
        },
        "id": "W105IHPgyNq2",
        "outputId": "e2acb19f-a458-4171-ca97-56993a6d7d90"
      },
      "execution_count": 30,
      "outputs": [
        {
          "output_type": "stream",
          "name": "stdout",
          "text": [
            "Multiple Comparison of Means - Tukey HSD, FWER=0.05 \n",
            "====================================================\n",
            "group1 group2 meandiff p-adj   lower   upper  reject\n",
            "----------------------------------------------------\n",
            "     1      2   14.191 0.0015  4.6308 23.7512   True\n",
            "     1      3   43.289    0.0 32.8948 53.6833   True\n",
            "     2      3   29.098    0.0 18.7211  39.475   True\n",
            "----------------------------------------------------\n"
          ]
        }
      ]
    },
    {
      "cell_type": "markdown",
      "source": [
        "Из проведенных тестов можем сделать вывод, что среди городской недвижимости быстрее всего продаются однокомнатные квартиры, далее идут двухкомнатные квартиры и дальше всего продаются трехкомнатные"
      ],
      "metadata": {
        "id": "tedXXgXrt9E2"
      }
    },
    {
      "cell_type": "markdown",
      "source": [
        "### Где среднее время продажи квартиры больше: в городе или загородом?"
      ],
      "metadata": {
        "id": "RmfAj4F1Vd7l"
      }
    },
    {
      "cell_type": "code",
      "source": [
        "group_A = df[df['type_locality'] == 'город']['days_exposition'].dropna()\n",
        "group_B = df[df['type_locality'] == 'за городом']['days_exposition'].dropna()\n",
        "\n",
        "print('Квартиры в городе:')\n",
        "print('Среднее значение дней до продажи:', group_A.mean())\n",
        "print('Дисперсия:', np.var(group_A, ddof=1))\n",
        "print('Среднеквадратичное отклонение:', np.std(group_A, ddof=1))\n",
        "print('Размер выборки: ', group_A.count(), end='\\n\\n')\n",
        "\n",
        "print('Квартиры за городом:')\n",
        "print('Среднее значение дней до продажи:', group_B.mean())\n",
        "print('Дисперсия:', np.var(group_B, ddof=1))\n",
        "print('Среднеквадратичное отклонение:', np.std(group_B, ddof=1))\n",
        "print('Размер выборки: ', group_B.count(), end='\\n\\n')  # дисперсии скорее различаются"
      ],
      "metadata": {
        "colab": {
          "base_uri": "https://localhost:8080/"
        },
        "id": "w7R3mYvTWIqT",
        "outputId": "4f74e1a6-a74b-4878-bf74-c9438ad94cda"
      },
      "execution_count": 31,
      "outputs": [
        {
          "output_type": "stream",
          "name": "stdout",
          "text": [
            "Квартиры в городе:\n",
            "Среднее значение дней до продажи: 181.03398764085787\n",
            "Дисперсия: 49403.113234349046\n",
            "Среднеквадратичное отклонение: 222.2681111503606\n",
            "Размер выборки:  16506\n",
            "\n",
            "Квартиры за городом:\n",
            "Среднее значение дней до продажи: 172.99847421422032\n",
            "Дисперсия: 40818.632171053534\n",
            "Среднеквадратичное отклонение: 202.0362149988302\n",
            "Размер выборки:  3277\n",
            "\n"
          ]
        }
      ]
    },
    {
      "cell_type": "markdown",
      "source": [
        "Судя по данным, квартиры за городом (в Ленинградской области) продаются в среднем быстрее, чем квартиры в городе, что неочевидно. Чтобы подтвердить это выдвинем продуктовые гипотезы:\n",
        "\n",
        "\n",
        "$H_0$: Среднее время продажи квартиры в городе и за городом равны\n",
        "\n",
        "$H_1$: Среднее время продажи квартиры в городе больше, чем среднее время продажи квартиры за городом\n",
        "\n",
        "Для проверки гипотез используем классический T-тест"
      ],
      "metadata": {
        "id": "VlDqcCAKXTJk"
      }
    },
    {
      "cell_type": "code",
      "source": [
        "T_stat, p_value = st.ttest_ind(group_A.to_list(), group_B.to_list(), alternative='greater', equal_var=False)\n",
        "print(f'p-value равно: {p_value}')\n",
        "if p_value < 0.05:\n",
        "    print('Отвергаем нулевую гипотезу')\n",
        "else:\n",
        "    print('Не можем отвергнуть нулевую гипотезу')"
      ],
      "metadata": {
        "colab": {
          "base_uri": "https://localhost:8080/"
        },
        "id": "_icljPz4hGFM",
        "outputId": "44f03343-7f45-4906-b2cd-0ccfdef6dabd"
      },
      "execution_count": 32,
      "outputs": [
        {
          "output_type": "stream",
          "name": "stdout",
          "text": [
            "p-value равно: 0.02048426323552957\n",
            "Отвергаем нулевую гипотезу\n"
          ]
        }
      ]
    },
    {
      "cell_type": "markdown",
      "source": [
        "По итогу теста можем сказать, что среднее время продажи квартиры статистически значимо больше среднего времени продажи квартиры за городом"
      ],
      "metadata": {
        "id": "mqmoQQUrjUNV"
      }
    },
    {
      "cell_type": "markdown",
      "source": [
        "### Анализ влияния количества фотографий на цену продажи квартиры в Санкт-Петербурге"
      ],
      "metadata": {
        "id": "uPAJphhIOUV0"
      }
    },
    {
      "cell_type": "markdown",
      "source": [
        "Посмотрим, как количество фотографий квартиры в публикации влияет на цену продажи. Будем рассматривать только квартиры в Санкт-Петербурге, чтобы посмотреть на определенную группу объявлений, размер выборки позволяет\n",
        "\n",
        "Для того, чтобы сравнить квартиры по количеству фотографий, возьмем 25% и 75% квантили по количеству фотографий в публикации: 4 и 14 фотографий соответственно"
      ],
      "metadata": {
        "id": "3zfYo0DrHTUw"
      }
    },
    {
      "cell_type": "code",
      "source": [
        "print(f'25%  квантиль: {np.quantile(df[df[\"locality_name\"] == \"Санкт-Петербург\"][\"total_images\"], 0.25)} фотографий')\n",
        "print(f'75%  квантиль: {np.quantile(df[df[\"locality_name\"] == \"Санкт-Петербург\"][\"total_images\"], 0.75)} фотографий')"
      ],
      "metadata": {
        "colab": {
          "base_uri": "https://localhost:8080/"
        },
        "id": "qkz5BhgPI1FT",
        "outputId": "1b7eab95-1c17-4039-dcc3-e9caf2531092"
      },
      "execution_count": 33,
      "outputs": [
        {
          "output_type": "stream",
          "name": "stdout",
          "text": [
            "25%  квантиль: 6.0 фотографий\n",
            "75%  квантиль: 14.0 фотографий\n"
          ]
        }
      ]
    },
    {
      "cell_type": "markdown",
      "source": [
        "Посмотрим на распределение цен в каждой группе"
      ],
      "metadata": {
        "id": "msV3sZEdSjJj"
      }
    },
    {
      "cell_type": "code",
      "source": [
        "group_A = df[(df[\"locality_name\"] == \"Санкт-Петербург\") & (df['total_images'] <= 6)]\n",
        "group_B = df[(df[\"locality_name\"] == \"Санкт-Петербург\") & (df['total_images'] >= 14)]\n",
        "groups = [group_A, group_B]\n",
        "\n",
        "fig, axes = plt.subplots(1, 2, figsize=(12, 7))\n",
        "\n",
        "for i in range(2):\n",
        "    sns.histplot(data=groups[i], x='last_price', stat='density', color=color, ax=axes[i])\n",
        "    sns.kdeplot(data=groups[i], x='last_price', color='blue', linewidth=2, ax=axes[i])\n",
        "    axes[i].set_xlabel('')\n",
        "    axes[i].set_ylabel('')\n",
        "fig.supxlabel('Цена квартиры, млн. рублей')\n",
        "fig.supylabel('Плотность распределения')\n",
        "\n",
        "fig.suptitle('Распределение цен квартир для разных групп')\n",
        "plt.show()"
      ],
      "metadata": {
        "colab": {
          "base_uri": "https://localhost:8080/",
          "height": 716
        },
        "id": "o50ztPzCJAbP",
        "outputId": "93f7dd05-c1f9-43a2-9b4a-3321b8f2a256"
      },
      "execution_count": 44,
      "outputs": [
        {
          "output_type": "display_data",
          "data": {
            "text/plain": [
              "<Figure size 1200x700 with 2 Axes>"
            ],
            "image/png": "[encoded data removed]"
          },
          "metadata": {}
        }
      ]
    },
    {
      "cell_type": "markdown",
      "source": [
        "Распределение в целом не напоминает нормальное, поэтому будем применять тест Манна-Уитни (хотя можно было и Т-тест, так как размер выборки достаточно большой)"
      ],
      "metadata": {
        "id": "fcHnEr5KdqmZ"
      }
    },
    {
      "cell_type": "code",
      "source": [
        "group_A = group_A['last_price']\n",
        "group_B = group_B['last_price']\n",
        "\n",
        "print('Объявления с маленьким количеством фотографий:')\n",
        "print('Среднее значение цены:', round(group_A.mean() / 1000000, 3), \"млн. руб\")\n",
        "print('Дисперсия:', np.var(group_A, ddof=1))\n",
        "print('Среднеквадратичное отклонение:', np.std(group_A, ddof=1))\n",
        "print('Размер выборки: ', group_A.count(), end='\\n\\n')\n",
        "\n",
        "print('Объявления с большим количеством фотографий:')\n",
        "print('Среднее значение цены:', round(group_B.mean() / 1000000, 3), \"млн. руб\")\n",
        "print('Дисперсия:', np.var(group_B, ddof=1))\n",
        "print('Среднеквадратичное отклонение:', np.std(group_B, ddof=1))\n",
        "print('Размер выборки: ', group_B.count(), end='\\n\\n')  # дисперсии скорее различаются"
      ],
      "metadata": {
        "colab": {
          "base_uri": "https://localhost:8080/"
        },
        "id": "0ub-2-FUguBh",
        "outputId": "fb891a48-a9cb-4a5a-b799-f1fdd768ced5"
      },
      "execution_count": 45,
      "outputs": [
        {
          "output_type": "stream",
          "name": "stdout",
          "text": [
            "Объявления с маленьким количеством фотографий:\n",
            "Среднее значение цены: 6.838 млн. руб\n",
            "Дисперсия: 23217037512674.12\n",
            "Среднеквадратичное отклонение: 4818406.117449434\n",
            "Размер выборки:  4364\n",
            "\n",
            "Объявления с большим количеством фотографий:\n",
            "Среднее значение цены: 8.147 млн. руб\n",
            "Дисперсия: 30080589904866.65\n",
            "Среднеквадратичное отклонение: 5484577.459099893\n",
            "Размер выборки:  4391\n",
            "\n"
          ]
        }
      ]
    },
    {
      "cell_type": "markdown",
      "source": [
        "Хоть и без АБ тестирования можно сделать выводы (эффект слишком заметный), но все же сформулируем гипотезы:\n",
        "\n",
        "$H_0$: средняя цена квартир в Санкт-Петербурге с маленьким количеством фотографий в объявлении такая же, как и с большим количеством объявлений\n",
        "\n",
        "$H_1$: средняя цена квартир в Санкт-Петербурге с маленьким количеством фотографий в объявлении меньше, чем и с большим количеством объявлений"
      ],
      "metadata": {
        "id": "dr2nKfs0h8Fx"
      }
    },
    {
      "cell_type": "code",
      "source": [
        "p_value = st.mannwhitneyu(group_A, group_B, alternative='less').pvalue\n",
        "print(f'p-value равно: {p_value}')\n",
        "if p_value < 0.05:\n",
        "    print('Отвергаем нулевую гипотезу')\n",
        "else:\n",
        "    print('Не можем отвергнуть нулевую гипотезу')"
      ],
      "metadata": {
        "colab": {
          "base_uri": "https://localhost:8080/"
        },
        "id": "LNMMml8bjp0l",
        "outputId": "b6fda6f3-e500-409a-d657-efcab4a659c8"
      },
      "execution_count": 36,
      "outputs": [
        {
          "output_type": "stream",
          "name": "stdout",
          "text": [
            "p-value равно: 1.6404516450210522e-68\n",
            "Отвергаем нулевую гипотезу\n"
          ]
        }
      ]
    },
    {
      "cell_type": "markdown",
      "source": [
        "По итогу тестирования можем отвергнуть нулевую гипотезу с любым разумным уровнем значимости, у публикаций с большим количеством фотографий цена в среднем выше (рассматривая 25% и 75% перцентили по количеству фотографий)"
      ],
      "metadata": {
        "id": "QTdGXeQakmms"
      }
    }
  ],
  "metadata": {
    "kernelspec": {
      "display_name": "Python 3 (ipykernel)",
      "language": "python",
      "name": "python3"
    },
    "language_info": {
      "codemirror_mode": {
        "name": "ipython",
        "version": 3
      },
      "file_extension": ".py",
      "mimetype": "text/x-python",
      "name": "python",
      "nbconvert_exporter": "python",
      "pygments_lexer": "ipython3",
      "version": "3.13.3"
    },
    "colab": {
      "provenance": []
    }
  },
  "nbformat": 4,
  "nbformat_minor": 0
}
